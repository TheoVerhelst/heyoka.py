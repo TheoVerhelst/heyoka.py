{
 "cells": [
  {
   "cell_type": "markdown",
   "id": "b286a1fb-e2e9-4156-994b-aba2f2aca4e4",
   "metadata": {},
   "source": [
    "# Conserving first integrals via manifold projection\n",
    "\n",
    "As we saw in an [earlier example](<./Outer Solar System.ipynb>), even though heyoka.py is not a [symplectic integrator](https://en.wikipedia.org/wiki/Symplectic_integrator) it is nevertheless capable of optimally preserving conserved quantities in dynamical systems.\n",
    "\n",
    "In order to conserve dynamical invariants, heyoka.py needs to be configured to operate at very low tolerances (i.e., below machine epsilon). High-precision numerical integrations however are computationally expensive, and in some contexts it is preferable, for performance reasons, to maintain a low integration accuracy while at the same time ensuring that the global dynamical invariants are preserved. This is the main reason why symplectic integrators are the tool of choice, for instance, in numerical studies of the long-term stability of extrasolar planetary systems.\n",
    "\n",
    "In this example, we will show how we can enforce the conservation of dynamical invariants in high-tolerance numerical integrations with heyoka.py via a technique known as *manifold projection*.\n",
    "\n",
    "## Setting things up\n",
    "\n",
    "We will re-use here the setup described in the [outer Solar System example](<./Outer Solar System.ipynb>): a gravitational 6-body problem consisting of the Sun, Jupiter, Saturn, Uranus, Neptune and Pluto with realistic initial conditions.\n",
    "\n",
    "Let us begin by defining a few constants and the initial conditions:"
   ]
  },
  {
   "cell_type": "code",
   "execution_count": 1,
   "id": "fb22cfa7-1e47-4068-af57-fcc78f200717",
   "metadata": {},
   "outputs": [],
   "source": [
    "import heyoka as hy\n",
    "import numpy as np\n",
    "\n",
    "# Masses, from Sun to Pluto.\n",
    "masses = np.array([1.00000597682, 1 / 1047.355, 1 / 3501.6, 1 / 22869., 1 / 19314., 7.4074074e-09])\n",
    "\n",
    "# The gravitational constant.\n",
    "G = 0.01720209895 * 0.01720209895 * 365 * 365\n",
    "\n",
    "# Initial conditions.\n",
    "ic = [# Sun.\n",
    "      -4.06428567034226e-3, -6.08813756435987e-3, -1.66162304225834e-6, +6.69048890636161e-6 * 365,\n",
    "      -6.33922479583593e-6 * 365, -3.13202145590767e-9 * 365,\n",
    "      # Jupiter.\n",
    "      +3.40546614227466e+0, +3.62978190075864e+0, +3.42386261766577e-2, -5.59797969310664e-3 * 365,\n",
    "      +5.51815399480116e-3 * 365, -2.66711392865591e-6 * 365,\n",
    "      # Saturn.\n",
    "      +6.60801554403466e+0, +6.38084674585064e+0, -1.36145963724542e-1, -4.17354020307064e-3 * 365,\n",
    "      +3.99723751748116e-3 * 365, +1.67206320571441e-5 * 365,\n",
    "      # Uranus.\n",
    "      +1.11636331405597e+1, +1.60373479057256e+1, +3.61783279369958e-1, -3.25884806151064e-3 * 365,\n",
    "      +2.06438412905916e-3 * 365, -2.17699042180559e-5 * 365,\n",
    "      # Neptune.\n",
    "      -3.01777243405203e+1, +1.91155314998064e+0, -1.53887595621042e-1, -2.17471785045538e-4 * 365,\n",
    "      -3.11361111025884e-3 * 365, +3.58344705491441e-5 * 365,\n",
    "      # Pluto.\n",
    "      -2.13858977531573e+1, +3.20719104739886e+1, +2.49245689556096e+0, -1.76936577252484e-3 * 365,\n",
    "      -2.06720938381724e-3 * 365, +6.58091931493844e-4 * 365]"
   ]
  },
  {
   "cell_type": "markdown",
   "id": "dd9258a0-6372-44d4-84ce-8fa8ba242694",
   "metadata": {},
   "source": [
    "See the [outer Solar System example](<./Outer Solar System.ipynb>) for more details on the setup.\n",
    "\n",
    "Next, we setup the dynamical equations of our N-body problem:"
   ]
  },
  {
   "cell_type": "code",
   "execution_count": 2,
   "id": "8935f6c9-a178-4f18-a39e-dfb2ba429879",
   "metadata": {},
   "outputs": [],
   "source": [
    "# Define the ODEs.\n",
    "sys = hy.model.nbody(6, masses = masses, Gconst = G)"
   ]
  },
  {
   "cell_type": "markdown",
   "id": "3c95d9d5-c9c7-469b-b138-164fa6360c78",
   "metadata": {},
   "source": [
    "We also store the 36 state variables (3 Cartesian positions and 3 Cartesian velocities for each of the 6 bodies) in a list for later use:"
   ]
  },
  {
   "cell_type": "code",
   "execution_count": 3,
   "id": "95ef6549-b7fc-4ab6-9104-ca7b719609d8",
   "metadata": {},
   "outputs": [],
   "source": [
    "state_vars = [p[0] for p in sys]"
   ]
  },
  {
   "cell_type": "markdown",
   "id": "6f4482bd-efd0-44ec-b102-af4cd084cb4c",
   "metadata": {},
   "source": [
    "Next, we define a [compiled function](./compiled_functions.ipynb) for the rapid computation of the energy of the system from the state vector. Here we are using the ``model.nbody_energy()`` helper, which creates the symbolic formula for the energy constant in the N-body problem:"
   ]
  },
  {
   "cell_type": "code",
   "execution_count": 4,
   "id": "e7edc7d0-10de-485b-b782-b2cf8a600b80",
   "metadata": {},
   "outputs": [],
   "source": [
    "# Define a compiled function for the computation\n",
    "# of the energy in an N-body system from its state vector.\n",
    "en_cfunc = hy.cfunc([hy.model.nbody_energy(6, masses=masses, Gconst=G)],\n",
    "                         vars=state_vars)"
   ]
  },
  {
   "cell_type": "markdown",
   "id": "70c64a69-ae6d-4031-b441-57aa83371036",
   "metadata": {},
   "source": [
    "We can now proceed to the instantiation of the numerical integrator. We choose a high tolerance of $10^{-6}$, so that the integrator will not be able to enforce energy conservation on its own (since we are not operating at sub-epsilon tolerances):"
   ]
  },
  {
   "cell_type": "code",
   "execution_count": 5,
   "id": "42a79b43-dbf4-4752-a3b0-82ef39d37229",
   "metadata": {},
   "outputs": [],
   "source": [
    "ta = hy.taylor_adaptive(sys, ic, tol = 1e-6)"
   ]
  },
  {
   "cell_type": "markdown",
   "id": "358f7349-6b66-45b5-9323-994d163ac797",
   "metadata": {},
   "source": [
    "Let us now compute the initial energy of the system:"
   ]
  },
  {
   "cell_type": "code",
   "execution_count": 6,
   "id": "feba1bb2-8e22-4572-a2aa-599d37e5afc6",
   "metadata": {},
   "outputs": [
    {
     "name": "stdout",
     "output_type": "stream",
     "text": [
      "Initial energy: -0.004286848855986956\n"
     ]
    }
   ],
   "source": [
    "print(f\"Initial energy: {en_cfunc(ta.state)[0]}\")"
   ]
  },
  {
   "cell_type": "markdown",
   "id": "35760b46-76c3-47e6-9cf0-c5835f3b6338",
   "metadata": {},
   "source": [
    "So far so good (though perhaps not very exciting).\n",
    "\n",
    "The next step is the introduction of a callback to be invoked after every step taken by the numerical integrator. This callback will check the relative energy error, and stop the integration if the error exceeds the $10^{-6}$ threshold:"
   ]
  },
  {
   "cell_type": "code",
   "execution_count": 7,
   "id": "107589f8-6449-4d78-a2b4-77824c9073a4",
   "metadata": {},
   "outputs": [],
   "source": [
    "class proj_callback:\n",
    "    def __init__(self, ta):\n",
    "        # Store the initial energy value\n",
    "        # as a data member.\n",
    "        self.E0 = en_cfunc(ta.state)[0]\n",
    "    def __call__(self, ta):\n",
    "        # Compute the relative energy error\n",
    "        # wrt the initial energy value.\n",
    "        rel_err = abs((en_cfunc(ta.state)[0]-self.E0)/self.E0)\n",
    "        \n",
    "        # Stop if the error is greater than 1e-6.\n",
    "        if rel_err > 1e-6:\n",
    "            print(f\"Rel energy error: {rel_err}\")\n",
    "            return False\n",
    "        else:\n",
    "            return True"
   ]
  },
  {
   "cell_type": "markdown",
   "id": "7d24ddbf-21db-4769-8931-073ba63ff447",
   "metadata": {},
   "source": [
    "Let us now integrate until the energy error reaches the threshold:"
   ]
  },
  {
   "cell_type": "code",
   "execution_count": 8,
   "id": "154f5ff1-2888-4862-8c6f-cc71bc7f4ba5",
   "metadata": {},
   "outputs": [
    {
     "name": "stdout",
     "output_type": "stream",
     "text": [
      "Rel energy error: 1.1480506378333837e-06\n"
     ]
    },
    {
     "data": {
      "text/plain": [
       "(<taylor_outcome.cb_stop: -4294967301>,\n",
       " 0.7296940138544884,\n",
       " 1.0583722519817704,\n",
       " 36,\n",
       " None)"
      ]
     },
     "execution_count": 8,
     "metadata": {},
     "output_type": "execute_result"
    }
   ],
   "source": [
    "cb = proj_callback(ta)\n",
    "# Attempt to propagate the state of the\n",
    "# system for 1000 years.\n",
    "ta.propagate_until(1000., callback = cb)"
   ]
  },
  {
   "cell_type": "markdown",
   "id": "ef71d8d2-4af5-466e-83e1-d6e5df070d49",
   "metadata": {},
   "source": [
    "We can see from the output that indeed the integration was terminated earlier because of the callback (as indicated by the ``taylor_outcome.cb_stop`` outcome), and that the error threshold was exceeded after 36 steps.\n",
    "\n",
    "## Fixing the energy\n",
    "\n",
    "We can now move to the interesting part, that is, enforcing energy conservation. The basic idea is to alter the current state vector of the system (whose energy has drifted away from the initial value) so that the energy of the updated state vector matches the initial energy of the system.\n",
    "\n",
    "Because there are infinite points in phase space whose energy is equal to the initial value, we impose the additional constraint that the updated state vector should be as close as possible to the original one. In other words, we are projecting the position in phase space of the current state vector onto the hyper-surface (manifold) defined by the conservation of energy.\n",
    "\n",
    "This projection process can be seen as a [constrained optimisation problem](https://en.wikipedia.org/wiki/Constrained_optimization): we want to minimise the distance from the original state vector subject to the constraint that the updated state vector must lie on the manifold defined by the conservation of energy.\n",
    "\n",
    "Let us begin with the definition of the objective function:"
   ]
  },
  {
   "cell_type": "code",
   "execution_count": 9,
   "id": "b586ca8b-c541-4578-8f8a-752e77aa9067",
   "metadata": {},
   "outputs": [],
   "source": [
    "def objfun(x):\n",
    "    return np.sum((x - ta.state)**2)"
   ]
  },
  {
   "cell_type": "markdown",
   "id": "47545522-c078-422d-8743-3ea846a1a149",
   "metadata": {},
   "source": [
    "As mentioned above, here we are trying to minimise the distance (in phase space) between the original state vector (``ta.state``) and the updated state vector (``x``).\n",
    "\n",
    "Next, we define the constraint:"
   ]
  },
  {
   "cell_type": "code",
   "execution_count": 10,
   "id": "56e535a9-8c1f-434b-8960-6326504e2941",
   "metadata": {},
   "outputs": [],
   "source": [
    "def cstr_fun(x):\n",
    "    return en_cfunc(x)[0] - cb.E0"
   ]
  },
  {
   "cell_type": "markdown",
   "id": "21374e6c-d85d-4ffc-a414-e93fffa5cbee",
   "metadata": {},
   "source": [
    "This equality constraint is satisifed if ``cstr_fun()`` returns zero, that is, if the energy of the updated state vector (``x``) is equal to the initial energy of the system (stored in the callback as ``cb.E0``).\n",
    "\n",
    "We are now ready to run the optimisation via {func}`scipy.optimize.minimize()`. Note that we need an optimiser with support for constraints (here we choose ``'SLSQP'``):"
   ]
  },
  {
   "cell_type": "code",
   "execution_count": 11,
   "id": "e645b715-b9b9-4638-bfeb-dc837ed0848d",
   "metadata": {},
   "outputs": [
    {
     "name": "stdout",
     "output_type": "stream",
     "text": [
      "     fun: 1.6028684446833196e-12\n",
      "     jac: array([ 3.11251980e-08, -4.02708810e-07, -2.46777665e-09,  6.77127983e-07,\n",
      "        1.08545919e-07,  6.47440808e-09, -1.78846302e-08,  4.43699850e-07,\n",
      "        2.04735762e-09, -8.41776881e-07, -7.41579582e-08, -4.55323142e-09,\n",
      "       -1.49171306e-08, -4.19038955e-08,  6.20362289e-10,  1.87868591e-07,\n",
      "       -6.28733290e-08, -1.69661898e-09,  1.65726277e-09,  5.62154767e-10,\n",
      "        1.03365094e-10, -5.76595871e-09,  2.04608335e-08,  2.42507285e-10,\n",
      "        3.90553367e-10,  7.21911420e-10,  6.79806211e-11, -1.70828223e-08,\n",
      "        8.39227732e-09, -9.86618461e-11,  7.43156647e-11,  7.42426121e-11,\n",
      "        7.42055306e-11,  7.37145900e-11,  7.71662734e-11,  7.41106621e-11])\n",
      " message: 'Optimization terminated successfully'\n",
      "    nfev: 76\n",
      "     nit: 2\n",
      "    njev: 2\n",
      "  status: 0\n",
      " success: True\n",
      "       x: array([ 3.84105756e-04,  4.20825164e-03,  5.43036570e-05, -2.08872689e-03,\n",
      "       -3.34644025e-04, -1.97521287e-05,  2.12415778e-01, -5.23285648e+00,\n",
      "       -2.32409617e-02,  2.72100941e+00,  2.39931450e-01,  1.49568286e-02,\n",
      "        3.04373044e+00,  8.52464786e+00, -1.10811532e-01, -2.02931729e+00,\n",
      "        6.80215541e-01,  1.91362004e-02, -1.75527885e+01, -5.41150064e+00,\n",
      "       -3.22849668e-01,  4.12169656e-01, -1.43877360e+00, -1.18741234e-02,\n",
      "       -1.33011126e+01, -2.72371035e+01,  2.63879078e-01,  1.02262482e+00,\n",
      "       -4.95785313e-01,  1.03062263e-02, -3.02042809e+01, -7.16711981e-01,\n",
      "        7.92446078e+00,  2.21052284e-01, -1.21473702e+00,  5.87481250e-02])\n"
     ]
    }
   ],
   "source": [
    "from scipy.optimize import minimize\n",
    "ret = minimize(objfun, ta.state, method='SLSQP',\n",
    "               tol=1e-10,\n",
    "               constraints=[{'type' : 'eq', 'fun' : cstr_fun}])\n",
    "\n",
    "# Store the updated state vector.\n",
    "res=ret.x\n",
    "print(ret)"
   ]
  },
  {
   "cell_type": "markdown",
   "id": "d827eeae-6bf1-48ab-9de8-6bd700f277fe",
   "metadata": {},
   "source": [
    "We can see how the optimisation terminated successfully.\n",
    "\n",
    "Let us verify that the updated state vector (``res``) conserves energy with a better accuracy than the original state vector:"
   ]
  },
  {
   "cell_type": "code",
   "execution_count": 12,
   "id": "80eeec14-deb2-4bd7-916b-afb8889b45f8",
   "metadata": {},
   "outputs": [
    {
     "name": "stdout",
     "output_type": "stream",
     "text": [
      "Original energy error: 1.1480506378333837e-06\n",
      "Updated  energy error: 1.3942820643896466e-11\n"
     ]
    }
   ],
   "source": [
    "print(f\"Original energy error: {abs((en_cfunc(ta.state)[0] - cb.E0)/cb.E0)}\")\n",
    "print(f\"Updated  energy error: {abs((en_cfunc(res)[0] - cb.E0)/cb.E0)}\")"
   ]
  },
  {
   "cell_type": "markdown",
   "id": "6ae906fd-2926-4e4f-a09c-ed8082f9b96c",
   "metadata": {},
   "source": [
    "## Helping the optimiser out\n",
    "\n",
    "Optimisation algorithms can greatly benefit from the availability of gradients for the objective function and the constraints. Luckily, heyoka.py's expression system lets us compute derivatives without too much pain.\n",
    "\n",
    "Let us begin by defining a symbolic expression representing the square of the distance between the original state vector and the updated state vector. Here, the original state vector will be represented by the symbolic state variables (stored earlier in ``state_vars``) and the updated state vector will be passed in the array of [runtime parameters](<./ODEs with parameters.ipynb>):"
   ]
  },
  {
   "cell_type": "code",
   "execution_count": 13,
   "id": "8ecc3adc-e466-49e6-af59-72bac1f022f3",
   "metadata": {},
   "outputs": [],
   "source": [
    "dist2_ex = hy.sum(list((state_vars[i] - hy.par[i])**2 for i in range(36)))"
   ]
  },
  {
   "cell_type": "markdown",
   "id": "263abf8d-54de-4be7-9f4e-26a85b8a3288",
   "metadata": {},
   "source": [
    "Let us take a look at ``dist2_ex`` just to fix the ideas:"
   ]
  },
  {
   "cell_type": "code",
   "execution_count": 14,
   "id": "48d502be-e289-40e1-9c86-d9f3608190ed",
   "metadata": {},
   "outputs": [
    {
     "data": {
      "text/plain": [
       "((vx_0 - p3)**2.0000000000000000 + (vx_1 - p9)**2.0000000000000000 + (vx_2 - p15)**2.0000000000000000 + (vx_3 - p21)**2.0000000000000000 + (vx_4 - p27)**2.0000000000000000 + (vx_5 - p33)**2.0000000000000000 + (vy_0 - p4)**2.0000000000000000 + (vy_1 - p10)**2.0000000000000000 + (vy_2 - p16)**2.0000000000000000 + (vy_3 - p22)**2.0000000000000000 + (vy_4 - p28)**2.0000000000000000 + (vy_5 - p34)**2.0000000000000000 + (vz_0 - p5)**2.0000000000000000 + (vz_1 - p11)**2.0000000000000000 + (vz_2 - p17)**2.0000000000000000 + (vz_3 - p23)**2.0000000000000000 + (vz_4 - p29)**2.0000000000000000 + (vz_5 - p35)**2.0000000000000000 + (x_0 - p0)**2.0000000000000000 + (x_1 - p6)**2.0000000000000000 + (x_2 - p12)**2.0000000000000000 + (x_3 - p18)**2.0000000000000000 + (x_4 - p24)**2.0000000000000000 + (x_5 - p30)**2.0000000000000000 + (y_0 - p1)**2.0000000000000000 + (y_1 - p7)**2.0000000000000000 + (y_2 - p13)**2.0000000000000000 + (y_3 - p19)**2.0000000000000000 + (y_4 - p25)**2.0000000000000000 + (y_5 - ..."
      ]
     },
     "execution_count": 14,
     "metadata": {},
     "output_type": "execute_result"
    }
   ],
   "source": [
    "dist2_ex"
   ]
  },
  {
   "cell_type": "markdown",
   "id": "3fc0a78e-34f9-4fe9-8c79-2074a581486e",
   "metadata": {},
   "source": [
    "We can now compute symbolically the gradient vector of ``dist2_ex``:"
   ]
  },
  {
   "cell_type": "code",
   "execution_count": 15,
   "id": "a574bdb2-38de-48dd-9fb7-3a9e92e889cc",
   "metadata": {},
   "outputs": [
    {
     "data": {
      "text/plain": [
       "[((2.0000000000000000 * x_0) - (2.0000000000000000 * p0)),\n",
       " ((2.0000000000000000 * y_0) - (2.0000000000000000 * p1)),\n",
       " ((2.0000000000000000 * z_0) - (2.0000000000000000 * p2)),\n",
       " ((2.0000000000000000 * vx_0) - (2.0000000000000000 * p3)),\n",
       " ((2.0000000000000000 * vy_0) - (2.0000000000000000 * p4)),\n",
       " ((2.0000000000000000 * vz_0) - (2.0000000000000000 * p5)),\n",
       " ((2.0000000000000000 * x_1) - (2.0000000000000000 * p6)),\n",
       " ((2.0000000000000000 * y_1) - (2.0000000000000000 * p7)),\n",
       " ((2.0000000000000000 * z_1) - (2.0000000000000000 * p8)),\n",
       " ((2.0000000000000000 * vx_1) - (2.0000000000000000 * p9)),\n",
       " ((2.0000000000000000 * vy_1) - (2.0000000000000000 * p10)),\n",
       " ((2.0000000000000000 * vz_1) - (2.0000000000000000 * p11)),\n",
       " ((2.0000000000000000 * x_2) - (2.0000000000000000 * p12)),\n",
       " ((2.0000000000000000 * y_2) - (2.0000000000000000 * p13)),\n",
       " ((2.0000000000000000 * z_2) - (2.0000000000000000 * p14)),\n",
       " ((2.0000000000000000 * vx_2) - (2.0000000000000000 * p15)),\n",
       " ((2.0000000000000000 * vy_2) - (2.0000000000000000 * p16)),\n",
       " ((2.0000000000000000 * vz_2) - (2.0000000000000000 * p17)),\n",
       " ((2.0000000000000000 * x_3) - (2.0000000000000000 * p18)),\n",
       " ((2.0000000000000000 * y_3) - (2.0000000000000000 * p19)),\n",
       " ((2.0000000000000000 * z_3) - (2.0000000000000000 * p20)),\n",
       " ((2.0000000000000000 * vx_3) - (2.0000000000000000 * p21)),\n",
       " ((2.0000000000000000 * vy_3) - (2.0000000000000000 * p22)),\n",
       " ((2.0000000000000000 * vz_3) - (2.0000000000000000 * p23)),\n",
       " ((2.0000000000000000 * x_4) - (2.0000000000000000 * p24)),\n",
       " ((2.0000000000000000 * y_4) - (2.0000000000000000 * p25)),\n",
       " ((2.0000000000000000 * z_4) - (2.0000000000000000 * p26)),\n",
       " ((2.0000000000000000 * vx_4) - (2.0000000000000000 * p27)),\n",
       " ((2.0000000000000000 * vy_4) - (2.0000000000000000 * p28)),\n",
       " ((2.0000000000000000 * vz_4) - (2.0000000000000000 * p29)),\n",
       " ((2.0000000000000000 * x_5) - (2.0000000000000000 * p30)),\n",
       " ((2.0000000000000000 * y_5) - (2.0000000000000000 * p31)),\n",
       " ((2.0000000000000000 * z_5) - (2.0000000000000000 * p32)),\n",
       " ((2.0000000000000000 * vx_5) - (2.0000000000000000 * p33)),\n",
       " ((2.0000000000000000 * vy_5) - (2.0000000000000000 * p34)),\n",
       " ((2.0000000000000000 * vz_5) - (2.0000000000000000 * p35))]"
      ]
     },
     "execution_count": 15,
     "metadata": {},
     "output_type": "execute_result"
    }
   ],
   "source": [
    "grad_dist2_ex = list(hy.diff(dist2_ex, state_vars[i]) for i in range(36))\n",
    "grad_dist2_ex"
   ]
  },
  {
   "cell_type": "markdown",
   "id": "7bfeb689-9a92-43f7-9953-94b4ca4048b2",
   "metadata": {},
   "source": [
    "Shocking, I know.\n",
    "\n",
    "We can now proceed to create a compiled function that will concatenate in a single vector output the value of the distance square and its gradient vector:"
   ]
  },
  {
   "cell_type": "code",
   "execution_count": 16,
   "id": "a22e0b7b-fbd9-435d-b875-1f759f220682",
   "metadata": {},
   "outputs": [],
   "source": [
    "objfun_cfunc = hy.cfunc([dist2_ex] + grad_dist2_ex, vars=state_vars)"
   ]
  },
  {
   "cell_type": "markdown",
   "id": "f69b4e6a-42e6-4d29-9d1a-d2e6155b200f",
   "metadata": {},
   "source": [
    "Finally, we can define an updated objective function that, in addition to returning the distance square, will return also its gradient vector (in the format required by {func}`scipy.optimize.minimize()`, i.e., as a tuple of 2 values):"
   ]
  },
  {
   "cell_type": "code",
   "execution_count": 17,
   "id": "6b2785f2-940c-4aa3-914d-0bcdff9133fa",
   "metadata": {},
   "outputs": [],
   "source": [
    "def objfun(x):\n",
    "    ret = objfun_cfunc(x, pars=ta.state)\n",
    "    \n",
    "    # Return the distance square and its\n",
    "    # gradient as a tuple of 2 values.\n",
    "    return (ret[0], ret[1:])"
   ]
  },
  {
   "cell_type": "markdown",
   "id": "466bc65d-3ca6-4ec8-a76b-fd795228edb4",
   "metadata": {},
   "source": [
    "In a similar fashion, we can define a compiled function for the computation of the gradient of the constraint:"
   ]
  },
  {
   "cell_type": "code",
   "execution_count": 18,
   "id": "bd91bf32-f0b9-4027-b87e-d0eb4904a64d",
   "metadata": {},
   "outputs": [],
   "source": [
    "# The symbolic expression representing the energy\n",
    "# of the system.\n",
    "en_ex = hy.model.nbody_energy(6, masses=masses, Gconst=G)\n",
    "\n",
    "# The gradient of the energy.\n",
    "grad_cstr = list(hy.diff(en_ex, state_vars[i]) for i in range(36))\n",
    "\n",
    "# The compiled function for the computation of the gradient\n",
    "# of the constraint.\n",
    "grad_cstr_cfunc = hy.cfunc(grad_cstr, vars=state_vars)"
   ]
  },
  {
   "cell_type": "markdown",
   "id": "0aa7348a-6929-4b87-8053-4a058b277757",
   "metadata": {},
   "source": [
    "We can now put everything together, and invoke again {func}`scipy.optimize.minimize()` supplying the gradients:"
   ]
  },
  {
   "cell_type": "code",
   "execution_count": 19,
   "id": "bd825b3f-dfc3-4a36-b4da-636583752a46",
   "metadata": {},
   "outputs": [
    {
     "name": "stdout",
     "output_type": "stream",
     "text": [
      "     fun: 1.6028685193862723e-12\n",
      "     jac: array([ 3.12048208e-08, -4.04779376e-07, -2.55461938e-09,  6.80411912e-07,\n",
      "        1.09011735e-07,  6.43432025e-09, -1.80479259e-08,  4.45824393e-07,\n",
      "        1.98289293e-09, -8.46023687e-07, -7.46001427e-08, -4.65041808e-09,\n",
      "       -1.50656865e-08, -4.21861941e-08,  5.48796397e-10,  1.88725123e-07,\n",
      "       -6.32595811e-08, -1.77965358e-09,  1.59084834e-09,  4.90336660e-10,\n",
      "        2.92618152e-11, -5.86914850e-09,  2.04876218e-08,  1.69083272e-10,\n",
      "        3.17850635e-10,  6.50835830e-10, -6.30695496e-12, -1.72421082e-08,\n",
      "        8.35925729e-09, -1.73769565e-10,  9.23705556e-14,  2.22044605e-15,\n",
      "       -2.48689958e-14, -5.33240119e-13,  2.93010061e-12, -1.41706091e-13])\n",
      " message: 'Optimization terminated successfully'\n",
      "    nfev: 4\n",
      "     nit: 2\n",
      "    njev: 2\n",
      "  status: 0\n",
      " success: True\n",
      "       x: array([ 3.84105829e-04,  4.20825171e-03,  5.43037301e-05, -2.08872682e-03,\n",
      "       -3.34643957e-04, -1.97520606e-05,  2.12415778e-01, -5.23285648e+00,\n",
      "       -2.32409616e-02,  2.72100941e+00,  2.39931450e-01,  1.49568287e-02,\n",
      "        3.04373044e+00,  8.52464786e+00, -1.10811532e-01, -2.02931729e+00,\n",
      "        6.80215541e-01,  1.91362005e-02, -1.75527885e+01, -5.41150064e+00,\n",
      "       -3.22849668e-01,  4.12169656e-01, -1.43877360e+00, -1.18741233e-02,\n",
      "       -1.33011126e+01, -2.72371035e+01,  2.63879078e-01,  1.02262482e+00,\n",
      "       -4.95785313e-01,  1.03062264e-02, -3.02042809e+01, -7.16711981e-01,\n",
      "        7.92446078e+00,  2.21052284e-01, -1.21473702e+00,  5.87481251e-02])\n"
     ]
    }
   ],
   "source": [
    "ret = minimize(objfun, ta.state, method='SLSQP', tol=1e-10,\n",
    "               jac=True,\n",
    "               constraints=[{'type' : 'eq', 'fun' : cstr_fun, 'jac' : grad_cstr_cfunc}])\n",
    "\n",
    "res=ret.x\n",
    "print(ret)"
   ]
  },
  {
   "cell_type": "markdown",
   "id": "a65817a3-4e70-463f-8ecc-b5a8702bd7f9",
   "metadata": {},
   "source": [
    "Like before, the optimisation completed successfully, this time taking far fewer objective function evaluations thanks to the availability of the gradient (which was previously estimated via numerical differencing).\n",
    "\n",
    "We can again verify that the updated state vector (``res``) conserves energy with a better accuracy than the original state vector:"
   ]
  },
  {
   "cell_type": "code",
   "execution_count": 20,
   "id": "1c22fb72-40d4-4584-9689-d2025a1390e0",
   "metadata": {},
   "outputs": [
    {
     "name": "stdout",
     "output_type": "stream",
     "text": [
      "Original energy error: 1.1480506378333837e-06\n",
      "Updated  energy error: 1.3841857553804836e-11\n"
     ]
    }
   ],
   "source": [
    "print(f\"Original energy error: {abs((en_cfunc(ta.state)[0] - cb.E0)/cb.E0)}\")\n",
    "print(f\"Updated  energy error: {abs((en_cfunc(res)[0] - cb.E0)/cb.E0)}\")"
   ]
  },
  {
   "cell_type": "markdown",
   "id": "d35a9602-3aad-4cb7-a255-caeffa308994",
   "metadata": {},
   "source": [
    "## Packaging it all together\n",
    "\n",
    "As a last step, we now incorporate manifold projection into the step callback, so that we can automatically ensure energy conservation whenever the energy error drifts too far during the numerical integration.\n",
    "\n",
    "Here is the updated version of the callback:"
   ]
  },
  {
   "cell_type": "code",
   "execution_count": 21,
   "id": "b5f4670c-0846-45dd-9e7a-694e3660e397",
   "metadata": {},
   "outputs": [],
   "source": [
    "class proj_callback:\n",
    "    def __init__(self, ta):\n",
    "        # Store the initial energy value\n",
    "        # as a data member.\n",
    "        self.E0 = en_cfunc(ta.state)[0]\n",
    "        \n",
    "        # Setup a variable to count how many times\n",
    "        # we perform manifold projection.\n",
    "        self.n_proj = 0\n",
    "    def __call__(self, ta):\n",
    "        # Compute the relative energy error\n",
    "        # wrt the initial energy value.\n",
    "        rel_err = abs((en_cfunc(ta.state)[0]-self.E0)/self.E0)\n",
    "        \n",
    "        # Fix the energy if the error is greater than 1e-6.\n",
    "        if rel_err > 1e-6:\n",
    "            ret = minimize(objfun, ta.state, method='SLSQP', tol=1e-10,\n",
    "                           jac=True,\n",
    "                           constraints=[{'type' : 'eq', 'fun' : cstr_fun,\n",
    "                                         'jac' : grad_cstr_cfunc}])\n",
    "            if ret.status != 0:\n",
    "                print(f\"Optimisation returned nonzero status:\\n{ret}\")\n",
    "                return False\n",
    "            \n",
    "            # Update the state vector.\n",
    "            ta.state[:] = ret.x\n",
    "            \n",
    "            # Update the counter.\n",
    "            self.n_proj += 1\n",
    "\n",
    "        return True"
   ]
  },
  {
   "cell_type": "markdown",
   "id": "aa59d71d-90ba-48a1-a996-16bab3ec6af0",
   "metadata": {},
   "source": [
    "Let us now reset the state of the integrator back to the original initial conditions:"
   ]
  },
  {
   "cell_type": "code",
   "execution_count": 22,
   "id": "4c15265c-14eb-468c-8607-7a1257461976",
   "metadata": {},
   "outputs": [],
   "source": [
    "ta.state[:] = ic\n",
    "ta.time = 0."
   ]
  },
  {
   "cell_type": "markdown",
   "id": "b2a59596-1dcd-49d8-8ff0-79895f196b55",
   "metadata": {},
   "source": [
    "We are now ready to repeat the numerical integration with automatic manifold projection. We will propagate the state of the system over an equispaced time grid up to $10^5$ years:"
   ]
  },
  {
   "cell_type": "code",
   "execution_count": 23,
   "id": "04a71b6e-fca4-4627-9027-e6a42a8be1ec",
   "metadata": {},
   "outputs": [],
   "source": [
    "# Create the callback object.\n",
    "cb = proj_callback(ta)\n",
    "\n",
    "# Define the time grid.\n",
    "t_grid = np.linspace(0, 1e5, 1000)\n",
    "\n",
    "# Run the numerical integration.\n",
    "pres_proj = ta.propagate_grid(t_grid, callback=cb)"
   ]
  },
  {
   "cell_type": "markdown",
   "id": "b7de946e-6d52-42cf-818e-6837bbf082b3",
   "metadata": {},
   "source": [
    "Let us also run a numerical integration without projection for comparison:"
   ]
  },
  {
   "cell_type": "code",
   "execution_count": 24,
   "id": "069bab3c-ae06-43c7-802e-c5b506910692",
   "metadata": {},
   "outputs": [],
   "source": [
    "ta.state[:] = ic\n",
    "ta.time = 0.\n",
    "\n",
    "pres_noproj = ta.propagate_grid(t_grid)"
   ]
  },
  {
   "cell_type": "markdown",
   "id": "d66be2a1-5a7f-4a24-a62b-f9468a97135d",
   "metadata": {},
   "source": [
    "We can now take a look at the results:"
   ]
  },
  {
   "cell_type": "code",
   "execution_count": 25,
   "id": "7f3640d4-4857-470d-aefe-52160b20ee00",
   "metadata": {},
   "outputs": [
    {
     "data": {
      "image/png": "[encoded data removed]",
      "text/plain": [
       "<Figure size 1200x600 with 1 Axes>"
      ]
     },
     "metadata": {},
     "output_type": "display_data"
    }
   ],
   "source": [
    "from matplotlib.pylab import plt\n",
    "fig = plt.figure(figsize = (12, 6))\n",
    "\n",
    "# Use log scale on the y axis.\n",
    "plt.yscale('log')\n",
    "\n",
    "# Compute the energy error over the time grid.\n",
    "err_proj_hist = abs((cb.E0 - en_cfunc(pres_proj[-1].transpose())[0])/cb.E0)\n",
    "err_noproj_hist = abs((cb.E0 - en_cfunc(pres_noproj[-1].transpose())[0])/cb.E0)\n",
    "\n",
    "plt.plot(t_grid, err_proj_hist, marker='.', linestyle='None', label=\"With projection\")\n",
    "plt.plot(t_grid, err_noproj_hist, marker='.', linestyle='None', label=\"Without projection\")\n",
    "\n",
    "plt.xlabel(\"Time (years)\")\n",
    "plt.ylabel(\"Rel. energy error\")\n",
    "plt.legend()\n",
    "plt.tight_layout();"
   ]
  },
  {
   "cell_type": "markdown",
   "id": "234dbb3f-d2b6-4179-90d9-2152a5fee824",
   "metadata": {},
   "source": [
    "We can indeed see how the energy error with projection is kept under the $10^{-6}$ threshold.\n",
    "\n",
    "We can also take a look at the number of manifold projections performed throughout the integration and compare it to the total number of steps:"
   ]
  },
  {
   "cell_type": "code",
   "execution_count": 26,
   "id": "dd78519a-8fa4-4fab-b3c1-582ab54b0ae9",
   "metadata": {},
   "outputs": [
    {
     "name": "stdout",
     "output_type": "stream",
     "text": [
      "Number of projections: 3765\n",
      "Number of steps: 108881\n"
     ]
    }
   ],
   "source": [
    "print(f\"Number of projections: {cb.n_proj}\")\n",
    "print(f\"Number of steps: {pres_proj[3]}\")"
   ]
  }
 ],
 "metadata": {
  "kernelspec": {
   "display_name": "Python 3 (ipykernel)",
   "language": "python",
   "name": "python3"
  },
  "language_info": {
   "codemirror_mode": {
    "name": "ipython",
    "version": 3
   },
   "file_extension": ".py",
   "mimetype": "text/x-python",
   "name": "python",
   "nbconvert_exporter": "python",
   "pygments_lexer": "ipython3",
   "version": "3.10.6"
  }
 },
 "nbformat": 4,
 "nbformat_minor": 5
}
