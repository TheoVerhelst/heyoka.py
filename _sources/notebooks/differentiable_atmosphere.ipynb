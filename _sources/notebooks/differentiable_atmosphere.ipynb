{
 "cells": [
  {
   "cell_type": "markdown",
   "metadata": {},
   "source": [
    "# Differentiable Atmosphere\n",
    "\n",
    "This notebook introduces a differentiable atmosphere model useful for propagating satellites in low-Earth orbit with *heyoka.py*. The model extends the ideas introduced in ESA's [cascade](https://esa.github.io/cascade/utilities/simple_atmosphere.html) simulations for the long term propagation of orbital debris enriching that model with the dependence on longitude, latitude, solar flux, local time and accounting for Earth oblateness via the Geodetic coordinates.\n",
    "\n",
    "We leverage the key observation that the thermosphere is well approximated (at any given time, and location) by an exponential behavior with respect to the altitude. \n",
    "\n",
    "The thermosphere is also subject to variations at different longitude, latitude, and times, due to seasonal variations, diurnal variations, geomagnetic storms, and more. \n",
    "\n",
    "We thus assume the density profile as a sum of exponentials in the form:\n",
    "\n",
    "$$\n",
    "\\rho(h) = \\sum_i \\alpha_i \\ \\textrm{exp}(-\\beta_i (h-\\gamma_i))\n",
    "$$\n",
    "\n",
    "and use a neural network to learn $\\alpha_i, \\beta_i, \\gamma_i$ as a function of longitude, latitude, solar conditions,  times, etc.... In the equation above, $h$ is the geodetic altitude, and $\\alpha_i, \\beta_i, \\gamma_i$ are the exponential parameters, which will be predicted using a neural network. \n",
    "\n",
    "To enhance the training, we do not directly learn these coefficients, but their variations w.r.t. an underlying average value (i.e., $\\overline{\\alpha}_i, \\overline{\\beta}_i, \\overline{\\gamma}_i$) precomputed minimizing the loss of the above equation compared to the target density (as done in [cascade](https://esa.github.io/cascade/utilities/simple_atmosphere.html)). \n",
    "\n",
    "This way, the neural model only needs to learn a correction to the average parameter, as defined by:\n",
    "\n",
    "$$\n",
    "\\begin{align*}\n",
    "\\alpha_i&=\\overline{\\alpha}_i(1+f\\delta \\alpha_i)\\\\\n",
    "\\beta_i&=\\overline{\\beta}_i(1+f\\delta \\beta_i)\\\\\n",
    "\\gamma_i&=\\overline{\\gamma}_i(1+f\\delta \\gamma_i)\n",
    "\\end{align*}\n",
    "$$\n",
    "\n",
    "where the factor $f=0.9$ is used to limit the variations and avoid numerical instabilities of the exponential. \n",
    "\n",
    "At the end, our neural differetiable atmospheric model will thus be written as:\n",
    "\n",
    "$$\n",
    "\\rho = \\sum_i \\overline{\\alpha}_i(1+f\\delta \\alpha_i) \\ \\textrm{exp}\\bigg(-\\overline{\\beta}_i(1+f\\delta \\beta_i) \\big(h-\\overline{\\gamma}_i(1+f\\delta \\gamma_i)\\big)\\bigg)\n",
    "$$\n",
    "\n",
    "where,\n",
    "\n",
    "$$\n",
    "[\\delta \\alpha_i, \\delta \\beta_i, \\delta \\gamma_i ]^T = \\mathcal{N}_\\theta(\\pmb{x})\n",
    "$$\n",
    "\n",
    "We have indicated with $\\pmb{x}$ the input parameters that capture the density variations at a given, fixed, altitude $h$.\n",
    "\n",
    "Let us make some imports:"
   ]
  },
  {
   "cell_type": "code",
   "execution_count": 1,
   "metadata": {},
   "outputs": [],
   "source": [
    "import heyoka as hk\n",
    "\n",
    "import numpy as np\n",
    "import datetime\n",
    "import time\n",
    "from scipy.integrate import solve_ivp\n",
    "from nrlmsise00 import msise_flat\n",
    "import matplotlib.pyplot as plt"
   ]
  },
  {
   "cell_type": "markdown",
   "metadata": {},
   "source": [
    "For training the neural network, we need thermospheric density values that can be used as target. In this case study, we use [NRLMSISE-00](https://en.wikipedia.org/wiki/NRLMSISE-00) (a popular empirical density model in the community), however, the same approach can also be extended to other models ([JB-08](https://ccmc.gsfc.nasa.gov/models/JB2008~2008/), [HASDM](https://www.sciencedirect.com/science/article/pii/S0273117705002048), etc.). We thus assume our parameters $\\delta \\alpha_i, \\delta \\beta_i, \\delta \\gamma_i$ are a function of the [NRLMSISE-00](https://en.wikipedia.org/wiki/NRLMSISE-00) input parameters (except the altitude ofc.).\n",
    "\n",
    "We thus train the network with the following inputs:\n",
    "* geodetic latitude normalized between `[-1,1]`\n",
    "* sine of geodetic longitude \n",
    "* cosine of geodetic longitude\n",
    "* sine of seconds in the day, where seconds in the day are first transformed in `[0,2$\\pi$]`\n",
    "* cosine of seconds in the day, where seconds in the day are first transformed in `[0,2$\\pi$]`\n",
    "* F10.7 normalized between `[-1,1]`, using the bounds `[60.,290.]`\n",
    "* F10.7 81-day average normalized between `[-1,1]`, using the bounds `[60.,190.]`\n",
    "* Ap index normalized between `[-1,1]`, using the bounds `[0.,140.]`\n",
    "\n",
    "The network training was done using [PyTorch](https://pytorch.org/) and resulted in weights and biases can be found under `data/nrlmsise00_flattened_nw.txt`.\n",
    "We now load the model flattened weights and biases, and construct the `heyoka.ffnn`\n",
    "\n",
    "```{note}\n",
    "For a tutorial on how to transfer the weights and biases from a torch model to heyoka.py, check out the tutorial: [Interfacing torch to heyoka.py](<./torch_and_heyoka.ipynb>)\n",
    "```\n"
   ]
  },
  {
   "cell_type": "markdown",
   "metadata": {},
   "source": [
    "We instantiate the state variables:"
   ]
  },
  {
   "cell_type": "code",
   "execution_count": 2,
   "metadata": {},
   "outputs": [],
   "source": [
    "x,y,z,vx,vy,vz=hk.make_vars(\"x\",\"y\",\"z\",\"vx\",\"vy\",\"vz\")"
   ]
  },
  {
   "cell_type": "markdown",
   "metadata": {},
   "source": [
    "However, the neural network model, similar to [NRLMSISE-00](https://en.wikipedia.org/wiki/NRLMSISE-00) and other models, accepts the geodetic coordinates as inputs (also the altitude $h$ must be computed using the geodetic coordinates). \n",
    "\n",
    "Here, we use the method discussed in [\"Physical Geodesy\" by Heiskanen and Moritz, 1967](https://library.wur.nl/WebQuery/titel/1236290), to transform the Cartesian coordinates into geodetic ones. \n",
    "For the Earth ellipsoid parameters, we use the [WGS-84](https://en.wikipedia.org/wiki/World_Geodetic_System#WGS_84) ellipsoid. \n",
    "\n",
    "The resulting method, implemented in heyoka, is thus:"
   ]
  },
  {
   "cell_type": "code",
   "execution_count": 3,
   "metadata": {},
   "outputs": [],
   "source": [
    "#here we use the solution from: \"Physical Geodesy\" by Heiskanen and Moritz, 1967\n",
    "def from_position_to_geodetic(x,y,z,a_earth=6378137.0,b_earth=6356752.314245,iters=4):\n",
    "    long=hk.atan2(y,x)\n",
    "    p=hk.sqrt(x**2+y**2)\n",
    "    e=np.sqrt((a_earth**2-b_earth**2)/a_earth**2)\n",
    "    phi=hk.atan(z/p/(1-e**2))\n",
    "    #we iterate to improve the solution\n",
    "    for _ in range(iters):            \n",
    "        N=a_earth**2/hk.sqrt(a_earth**2*hk.cos(phi)**2+b_earth**2*hk.sin(phi)**2)\n",
    "        h=p/hk.cos(phi)-N\n",
    "        phi=hk.atan(z/p/(1-e**2*N/(N+h)))\n",
    "    return h/1e3,phi,long"
   ]
  },
  {
   "cell_type": "markdown",
   "metadata": {},
   "source": [
    "Note that we need to decide on a fixed number of iterations to use as to reconstruct the geodetic coordinates from the Cartesian ones. Running an experiment and limiting the altitude in the range $h \\in [100, 1000]$ Km we find maximum errors (in reconstructing the altitude), of 37m for 2 iterations, 0.2m for 3 iterations, and 2cm for 4 iterations.\n",
    "\n",
    "We can then settle for now on four iterations (3 or even 2 could actually be good enough) and compute the symbolic expression of the inversions:"
   ]
  },
  {
   "cell_type": "code",
   "execution_count": 4,
   "metadata": {},
   "outputs": [
    {
     "name": "stdout",
     "output_type": "stream",
     "text": [
      "As an example here is the symbolic expression for the altitude: \n",
      " (((0.0010000000000000000 * (x**2.0000000000000000 + y**2.0000000000000000)**0.50000000000000000) / cos(atan((z / ((1.0000000000000000 - ((272331606109.84375 * cos(atan((z / ((1.0000000000000000 - ((272331606109.84375 * cos(atan((z / ((1.0000000000000000 - ((272331606109.84375 * cos(atan(((1.0067394967423335 * z) / (x**2.0000000000000000 + y**2.0000000000000000)**0.50000000000000000)))) / ((x**2.0000000000000000 + y**2.0000000000000000)**0.50000000000000000 * ((40408299984659.156 * sin(atan(((1.0067394967423335 * z) / (x**2.0000000000000000 + y**2.0000000000000000)**0.50000000000000000)))**2.0000000000000000) + (40680631590769.000 * cos(atan(((1.0067394967423335 * z) / (x**2.0000000000000000 + y**2.0000000000000000)**0.50000000000000000)))**2.0000000000000000))**0.50000000000000000))) * (x**2.0000000000000000 + y**2.0000000000000000)**0.50000000000000000))))) / ((x**2.0000000000000000 + y**2.0000000000000000)**0.50000000000000000 * ((40408299984659.156 * sin(atan((z / ((1.0000000000000000 - ...\n"
     ]
    }
   ],
   "source": [
    "altitude,lat,lon=from_position_to_geodetic(x,y,z)\n",
    "print(\"As an example here is the symbolic expression for the altitude: \\n\", altitude)"
   ]
  },
  {
   "cell_type": "markdown",
   "metadata": {},
   "source": [
    "We now can define all the normalized inputs to feed the neural network."
   ]
  },
  {
   "cell_type": "code",
   "execution_count": 5,
   "metadata": {},
   "outputs": [],
   "source": [
    "lat_n=lat/np.pi*2\n",
    "sin_lon=hk.sin(lon)\n",
    "cos_lon=hk.cos(lon)\n",
    "# This is the date we assume to start our integration at\n",
    "date0=datetime.datetime(2009, 1, 2, 8, 0)\n",
    "offset=date0.second+date0.minute*60.+date0.hour*3600.\n",
    "sec_in_day_n=(hk.time+offset)/86400.*2*np.pi\n",
    "cos_sec_in_day=hk.cos(sec_in_day_n)\n",
    "sin_sec_in_day=hk.sin(sec_in_day_n)\n",
    "# We will integrate for 10 hours, we can thus assume these values are constant.\n",
    "# We compute their values using the nrlmsise00 toolbox and querying the date0. We then normalize to obtain:\n",
    "f107_n, f107A_n, ap_n=(0.17409463226795197, -0.5575244426727295, 0.1701483279466629)"
   ]
  },
  {
   "cell_type": "markdown",
   "metadata": {},
   "source": [
    "We have everything we need to instantiate our differentiable, neural model for the atmosphere: let us load the pre-trained weights and biases for the `ffnn`:"
   ]
  },
  {
   "cell_type": "code",
   "execution_count": 6,
   "metadata": {},
   "outputs": [],
   "source": [
    "flattened_nw=np.loadtxt('data/nrlmsise00_flattened_nw.txt')"
   ]
  },
  {
   "cell_type": "markdown",
   "metadata": {},
   "source": [
    "and instantiate the `heyoka.ffnn`:"
   ]
  },
  {
   "cell_type": "code",
   "execution_count": 7,
   "metadata": {},
   "outputs": [],
   "source": [
    "model_heyoka=hk.model.ffnn(inputs=[lat_n,sin_lon,cos_lon,sin_sec_in_day, cos_sec_in_day, hk.expression(f107_n), hk.expression(f107A_n), hk.expression(ap_n)],\n",
    "                           nn_hidden=[32,32], \n",
    "                           n_out=12, \n",
    "                           activations=[hk.tanh,hk.tanh,hk.tanh], \n",
    "                           nn_wb=flattened_nw)\n"
   ]
  },
  {
   "cell_type": "markdown",
   "metadata": {},
   "source": [
    "The network above predicts the $\\delta \\alpha_i$, $\\delta \\beta_i$, $\\delta \\gamma_i$, to use in the expression below:\n",
    "\n",
    "$$\n",
    "\\rho = \\sum_i \\overline{\\alpha}_i(1+f\\delta \\alpha_i) \\ \\textrm{exp}\\bigg(-\\overline{\\beta}_i(1+f\\delta \\beta_i) \\big(h-\\overline{\\gamma}_i(1+f\\delta \\gamma_i)\\big)\\bigg)\n",
    "$$\n",
    "\n",
    "The values of the various $\\overline{\\alpha}_i, \\overline{\\beta}_i, \\overline{\\gamma}_i$ have been precomputed as to fit an average atmospheric model, similarily as done in ESA's [cascade](https://esa.github.io/cascade/utilities/simple_atmosphere.html) simulations. Their values are here reported explicitly:"
   ]
  },
  {
   "cell_type": "code",
   "execution_count": 8,
   "metadata": {},
   "outputs": [],
   "source": [
    "# these are the constant\n",
    "fit_params_all=np.zeros((1,12))\n",
    "# alpha\n",
    "fit_params_all[0,0]=1.1961831205553608e-06\n",
    "fit_params_all[0,3]=0.7521974444389343\n",
    "fit_params_all[0,6]=3.916130530967621e-09\n",
    "fit_params_all[0,9]=1.4778674432228828e-13\n",
    "# beta\n",
    "fit_params_all[0,1]=0.04639218747615814\n",
    "fit_params_all[0,4]=0.18178749084472656\n",
    "fit_params_all[0,7]=0.019965510815382004\n",
    "fit_params_all[0,10]=0.004425965249538422\n",
    "#gamma\n",
    "fit_params_all[0,2]=5.996347427368164\n",
    "fit_params_all[0,5]=21.895925521850586\n",
    "fit_params_all[0,8]=2.3234505653381348\n",
    "fit_params_all[0,11]=0.26730024814605713"
   ]
  },
  {
   "cell_type": "markdown",
   "metadata": {},
   "source": [
    "and used to define the final differentiable model:"
   ]
  },
  {
   "cell_type": "code",
   "execution_count": 9,
   "metadata": {},
   "outputs": [],
   "source": [
    "def density(altitude, model, factor=0.9):\n",
    "    density=0.\n",
    "    for i in range(0,fit_params_all.shape[1]-1,3):\n",
    "        density += (fit_params_all[0,i].item()*(1+factor*model[i])*hk.exp(-fit_params_all[0,i+1].item()*(1.+factor*model[i+1])*(altitude-(fit_params_all[0,i+2].item()*(1.+factor*model[i+2])))))\n",
    "    return density"
   ]
  },
  {
   "cell_type": "markdown",
   "metadata": {},
   "source": [
    "Let's now use the function to instantiate the neutral density model with feed-forward neural network correction:"
   ]
  },
  {
   "cell_type": "code",
   "execution_count": 10,
   "metadata": {},
   "outputs": [],
   "source": [
    "density_nn = density(altitude=altitude, model=model_heyoka)"
   ]
  },
  {
   "cell_type": "markdown",
   "metadata": {},
   "source": [
    "Let's now do the same, but zeroing out the correction terms: this corresponds to a density model representing on average all latitudes, longitudes, time of days etc ... and only varying with the geodetic altitude."
   ]
  },
  {
   "cell_type": "code",
   "execution_count": 11,
   "metadata": {},
   "outputs": [],
   "source": [
    "density_fit_global = density(altitude=altitude, model=model_heyoka, factor=0.)"
   ]
  },
  {
   "cell_type": "markdown",
   "metadata": {},
   "source": [
    "## Numerical Integration with Differentiable Atmosphere"
   ]
  },
  {
   "cell_type": "markdown",
   "metadata": {},
   "source": [
    "All right... we have a differentiable density model defined via a functional form and NN coefficients, and one defined by a global fit.\n",
    "\n",
    "How can these be used for predicting the orbit of a satellite in low-Earth orbit? And how do they compare to `scipy` integration using the `NRLMSISE-00` model itself?\n",
    "\n",
    "We are now ready to set up numerical integrations of a satellite subject to different atmospheric models. We do so, for the purpose of this example, assuming the only forces acting on the satellite are the air drag and the gravitational attraction to a central body.\n",
    "\n",
    "$$\n",
    "\\begin{array}{l}\n",
    "\\ddot{\\mathbf r} = -\\dfrac{\\mu}r^3 \\mathbf r -\\dfrac {A\\rho(\\mathbf r, t)}{2m} C_d |\\mathbf v|\\mathbf v\n",
    "\\end{array}\n",
    "$$\n",
    "\n",
    "First some useful constants:"
   ]
  },
  {
   "cell_type": "code",
   "execution_count": 12,
   "metadata": {},
   "outputs": [],
   "source": [
    "#First we need to set some variables useful for integration:\n",
    "mu = 3.986004407799724e14   #Earth gravitational parameter SI\n",
    "r_earth = 6378.1363*1e3     #Earth radius SI\n",
    "initial_h=350.*1e3          #Satellite's initial altitude SI\n",
    "mass=200                    #mass of the satellite SI\n",
    "area=2#                     drag cross-sectional area of the satellite in SI\n",
    "cd=2.2#                     drag coefficient [-]\n",
    "bc = mass/(cd*area)         #ballistic coefficient in SI\n",
    "#we assume a circular orbit at first\n",
    "initial_state=[r_earth+initial_h,0.,0., 0., np.sqrt(mu/(r_earth+initial_h)),0.]\n",
    "#finally, we need to de-normalize the solar indices of the day of the integration:\n",
    "f107=(1+f107_n)/2*(290.-60.)+60.\n",
    "f107A=(1+f107A_n)/2*(190.-60.)+60.\n",
    "ap=(1+ap_n)/2*(140.-0.)+0.\n"
   ]
  },
  {
   "cell_type": "markdown",
   "metadata": {},
   "source": [
    "### Scipy + NRLMSISE-00\n",
    "\n",
    "This is the standard scipy integration, using NRLMSISE-00 as neutral density model\n",
    "\n",
    "```{warning}\n",
    "to run this, the [nrlmsise00](https://pypi.org/project/nrlmsise00/) pypi package shall be first installed\n",
    "```\n",
    "\n",
    "First, we define the dynamics:"
   ]
  },
  {
   "cell_type": "code",
   "execution_count": 13,
   "metadata": {},
   "outputs": [],
   "source": [
    "def from_position_to_geodetic_(x,y,z,a_earth=6378137.0,b_earth=6356752.314245,iters=4):\n",
    "    long=np.arctan2(y,x)\n",
    "    p=np.sqrt(x**2+y**2)\n",
    "    e=np.sqrt((a_earth**2-b_earth**2)/a_earth**2)\n",
    "    phi=np.arctan(z/p/(1-e**2))\n",
    "    #we iterate to improve the solution\n",
    "    for _ in range(iters):            \n",
    "        N=a_earth**2/np.sqrt(a_earth**2*np.cos(phi)**2+b_earth**2*np.sin(phi)**2)\n",
    "        h=p/np.cos(phi)-N\n",
    "        phi=np.arctan(z/p/(1-e**2*N/(N+h)))\n",
    "    return h/1e3,phi,long\n",
    "\n",
    "def dxdt(t, state, mu, f107A, f107, ap, bc, date0):\n",
    "    x,y,z,vx,vy,vz=state\n",
    "    r=np.sqrt(x**2+y**2+z**2)\n",
    "    h,lat,long=from_position_to_geodetic_(x,y,z)\n",
    "    #nrlmsise-00 density (takes: datetime, altitude [km], latitude [deg], longitude [deg], f107, f107A, ap)\n",
    "    rho=msise_flat(time=date0+datetime.timedelta(seconds=t), alt=h, lat=np.rad2deg(lat), lon=np.rad2deg(long), f107a=f107A, f107=f107, ap=ap)[5]*1e3\n",
    "    adrag_x=-1/2*rho*np.sqrt(vx**2+vy**2+vz**2)*vx/bc\n",
    "    adrag_y=-1/2*rho*np.sqrt(vx**2+vy**2+vz**2)*vy/bc\n",
    "    adrag_z=-1/2*rho*np.sqrt(vx**2+vy**2+vz**2)*vz/bc\n",
    "    ax=-mu*x/r**3+adrag_x\n",
    "    ay=-mu*y/r**3+adrag_y\n",
    "    az=-mu*z/r**3+adrag_z\n",
    "    return np.array([vx,vy,vz,ax,ay,az])\n",
    "    "
   ]
  },
  {
   "cell_type": "markdown",
   "metadata": {},
   "source": [
    "Then, we set up the integration:\n",
    "    \n",
    "```{note}\n",
    "To have a fair comparison, as integrator, we use `DOP853` with absolute and relative tolerances of $10^{-13}$, and we then select the same tolerances for the Taylor integrator)\n",
    "```"
   ]
  },
  {
   "cell_type": "code",
   "execution_count": 14,
   "metadata": {},
   "outputs": [],
   "source": [
    "t_span=(0.,60.*60*10.) #10 hours propagation"
   ]
  },
  {
   "cell_type": "code",
   "execution_count": 15,
   "metadata": {},
   "outputs": [
    {
     "name": "stdout",
     "output_type": "stream",
     "text": [
      "1.19 s ± 7.67 ms per loop (mean ± std. dev. of 7 runs, 1 loop each)\n"
     ]
    }
   ],
   "source": [
    "%%timeit\n",
    "sol = solve_ivp(dxdt, \n",
    "                t_span, \n",
    "                initial_state, \n",
    "                args=(mu, f107A, f107, ap, bc, date0), \n",
    "                method='DOP853',\n",
    "                rtol=1e-13,\n",
    "                atol=1e-14)"
   ]
  },
  {
   "cell_type": "markdown",
   "metadata": {},
   "source": [
    "For plotting (later on) we perform again the integration once to record the result."
   ]
  },
  {
   "cell_type": "code",
   "execution_count": 16,
   "metadata": {},
   "outputs": [],
   "source": [
    "sol = solve_ivp(dxdt, \n",
    "                t_span, \n",
    "                initial_state, \n",
    "                args=(mu, f107A, f107, ap, bc, date0), \n",
    "                method='DOP853',\n",
    "                rtol=1e-13,\n",
    "                atol=1e-14)\n",
    "res_x_scipy_nrlmsise00=sol.y[0,:]\n",
    "res_y_scipy_nrlmsise00=sol.y[1,:]\n",
    "res_z_scipy_nrlmsise00=sol.y[2,:]\n",
    "res_vx_scipy_nrlmsise00=sol.y[3,:]\n",
    "res_vy_scipy_nrlmsise00=sol.y[4,:]\n",
    "res_vz_scipy_nrlmsise00=sol.y[5,:]"
   ]
  },
  {
   "cell_type": "markdown",
   "metadata": {},
   "source": [
    "### Heyoka + differentiable atmosphere (NN)\n",
    "\n",
    "Here we do the same as above, but using `heyoka`'s Taylor method, and the differentiable atmosphere model.\n",
    "\n",
    "First, we define the dynamics:"
   ]
  },
  {
   "cell_type": "code",
   "execution_count": 17,
   "metadata": {},
   "outputs": [],
   "source": [
    "akepler_x=-mu*x*(x**2+y**2+z**2)**(-3/2)\n",
    "akepler_y=-mu*y*(x**2+y**2+z**2)**(-3/2)\n",
    "akepler_z=-mu*z*(x**2+y**2+z**2)**(-3/2)\n",
    "\n",
    "adragx=-1/2*density_nn*vx*hk.sqrt(vx**2+vy**2+vz**2)/bc\n",
    "adragy=-1/2*density_nn*vy*hk.sqrt(vx**2+vy**2+vz**2)/bc\n",
    "adragz=-1/2*density_nn*vz*hk.sqrt(vx**2+vy**2+vz**2)/bc\n",
    "\n",
    "dyn_drag=[(x,vx), (y,vy), (z,vz), (vx,akepler_x+adragx), (vy,akepler_y+adragy), (vz,akepler_z+adragz)]\n"
   ]
  },
  {
   "cell_type": "markdown",
   "metadata": {},
   "source": [
    "We first compile the integrator:"
   ]
  },
  {
   "cell_type": "code",
   "execution_count": 18,
   "metadata": {},
   "outputs": [
    {
     "name": "stdout",
     "output_type": "stream",
     "text": [
      "1.5339181423187256 to build the integrator\n"
     ]
    }
   ],
   "source": [
    "start_time = time.time()\n",
    "ta=hk.taylor_adaptive(\n",
    "    dyn_drag,\n",
    "    initial_state,\n",
    "    compact_mode=True,\n",
    "    tol=1e-14,\n",
    ")\n",
    "print(f'{time.time()-start_time} to build the integrator')"
   ]
  },
  {
   "cell_type": "markdown",
   "metadata": {},
   "source": [
    "And then, we can finally perform the integration:"
   ]
  },
  {
   "cell_type": "code",
   "execution_count": 19,
   "metadata": {},
   "outputs": [
    {
     "name": "stdout",
     "output_type": "stream",
     "text": [
      "4.72 ms ± 6.32 µs per loop (mean ± std. dev. of 7 runs, 100 loops each)\n"
     ]
    }
   ],
   "source": [
    "%%timeit\n",
    "ta.state[:] = initial_state\n",
    "ta.time=0.\n",
    "sol_heyoka_nn=ta.propagate_grid(sol.t)"
   ]
  },
  {
   "cell_type": "markdown",
   "metadata": {},
   "source": [
    "For plotting (later on) we perform again the integration once to record the result."
   ]
  },
  {
   "cell_type": "code",
   "execution_count": 20,
   "metadata": {},
   "outputs": [],
   "source": [
    "ta.state[:] = initial_state\n",
    "ta.time=0.\n",
    "sol_heyoka_nn=ta.propagate_grid(sol.t)\n",
    "res_x_heyoka_nn=sol_heyoka_nn[-1][:,0]\n",
    "res_y_heyoka_nn=sol_heyoka_nn[-1][:,1]\n",
    "res_z_heyoka_nn=sol_heyoka_nn[-1][:,2]\n",
    "res_vx_heyoka_nn=sol_heyoka_nn[-1][:,3]\n",
    "res_vy_heyoka_nn=sol_heyoka_nn[-1][:,4]\n",
    "res_vz_heyoka_nn=sol_heyoka_nn[-1][:,5]"
   ]
  },
  {
   "cell_type": "markdown",
   "metadata": {},
   "source": [
    "*heyoka.py* integration with a differentiable atmosphere is more than 100x times faster than `scipy` with `NRLMSISE-00` !"
   ]
  },
  {
   "cell_type": "markdown",
   "metadata": {},
   "source": [
    "## Lets plot the results to check the accuracy\n",
    "\n",
    "All right! But what about the accuracy? Does the trained neural network manage to accurately represent `NRLMSISE-00`, without accumulating too much error during integration?\n",
    "\n",
    "For this, we setup a test where we compare: \n",
    "* scipy with `NRLMSISE-00`\n",
    "* heyoka with NN\n",
    "* heyoka with global fit\n",
    "\n",
    "But first, let's integrate the equations of motion using the global fit:\n"
   ]
  },
  {
   "cell_type": "code",
   "execution_count": 21,
   "metadata": {},
   "outputs": [
    {
     "name": "stdout",
     "output_type": "stream",
     "text": [
      "0.7945075035095215 to build the integrator\n"
     ]
    }
   ],
   "source": [
    "akepler_x=-mu*x*(x**2+y**2+z**2)**(-3/2)\n",
    "akepler_y=-mu*y*(x**2+y**2+z**2)**(-3/2)\n",
    "akepler_z=-mu*z*(x**2+y**2+z**2)**(-3/2)\n",
    "\n",
    "adragx=-1/2*density_fit_global*vx*hk.sqrt(vx**2+vy**2+vz**2)/bc\n",
    "adragy=-1/2*density_fit_global*vy*hk.sqrt(vx**2+vy**2+vz**2)/bc\n",
    "adragz=-1/2*density_fit_global*vz*hk.sqrt(vx**2+vy**2+vz**2)/bc\n",
    "\n",
    "dyn_drag_fit_global=[(x,vx), (y,vy), (z,vz), (vx,akepler_x+adragx), (vy,akepler_y+adragy), (vz,akepler_z+adragz)]\n",
    "\n",
    "start_time = time.time()\n",
    "ta=hk.taylor_adaptive(\n",
    "    dyn_drag_fit_global,\n",
    "    initial_state,\n",
    "    compact_mode=True,\n",
    "    tol=1e-14,\n",
    ")\n",
    "print(f'{time.time()-start_time} to build the integrator')\n"
   ]
  },
  {
   "cell_type": "code",
   "execution_count": 22,
   "metadata": {},
   "outputs": [
    {
     "name": "stdout",
     "output_type": "stream",
     "text": [
      "512 µs ± 470 ns per loop (mean ± std. dev. of 7 runs, 1,000 loops each)\n"
     ]
    }
   ],
   "source": [
    "%%timeit\n",
    "ta.state[:] = initial_state\n",
    "ta.time=0.\n",
    "sol_heyoka_fit_global=ta.propagate_grid(sol.t)"
   ]
  },
  {
   "cell_type": "code",
   "execution_count": 23,
   "metadata": {},
   "outputs": [],
   "source": [
    "ta.state[:] = initial_state\n",
    "ta.time=0.\n",
    "sol_heyoka_fit_global=ta.propagate_grid(sol.t)\n",
    "res_x_heyoka_fit_global=sol_heyoka_fit_global[-1][:,0]\n",
    "res_y_heyoka_fit_global=sol_heyoka_fit_global[-1][:,1]\n",
    "res_z_heyoka_fit_global=sol_heyoka_fit_global[-1][:,2]\n",
    "res_vx_heyoka_fit_global=sol_heyoka_fit_global[-1][:,3]\n",
    "res_vy_heyoka_fit_global=sol_heyoka_fit_global[-1][:,4]\n",
    "res_vz_heyoka_fit_global=sol_heyoka_fit_global[-1][:,5]"
   ]
  },
  {
   "cell_type": "markdown",
   "metadata": {},
   "source": [
    "Wow! This is even more than 1000x faster than `scipy` with `NRLMSISE-00`. But does it maintain an acceptable accuracy? Let's see:"
   ]
  },
  {
   "cell_type": "code",
   "execution_count": 24,
   "metadata": {},
   "outputs": [
    {
     "data": {
      "text/plain": [
       "Text(0.5, 0, 'time [s]')"
      ]
     },
     "execution_count": 24,
     "metadata": {},
     "output_type": "execute_result"
    },
    {
     "data": {
      "image/png": "[encoded data removed]",
      "text/plain": [
       "<Figure size 640x480 with 1 Axes>"
      ]
     },
     "metadata": {},
     "output_type": "display_data"
    }
   ],
   "source": [
    "plt.plot(sol.t,(np.sqrt(res_x_heyoka_nn**2+res_y_heyoka_nn**2+res_z_heyoka_nn**2)-r_earth)*1e-3,label='heyoka+NN')\n",
    "plt.plot(sol.t,(np.sqrt(res_x_scipy_nrlmsise00**2+res_y_scipy_nrlmsise00**2+res_z_scipy_nrlmsise00**2)-r_earth)*1e-3,label='scipy+NRLMSISE-00')\n",
    "plt.plot(sol.t,(np.sqrt(res_x_heyoka_fit_global**2+res_y_heyoka_fit_global**2+res_z_heyoka_fit_global**2)-r_earth)*1e-3,label='global fit')\n",
    "plt.legend()\n",
    "plt.ylabel('h [km]')\n",
    "plt.xlabel('time [s]')"
   ]
  },
  {
   "cell_type": "code",
   "execution_count": 25,
   "metadata": {},
   "outputs": [
    {
     "name": "stdout",
     "output_type": "stream",
     "text": [
      "######### global fit vs NRLMSISE-00 #########\n",
      "Maximum difference across the integration period: 241.68232485931185\n",
      "Final difference: 241.68232485931185\n",
      "\n",
      "\n",
      "######### NN vs NRLMSISE-00 #########\n",
      "Maximum difference across the integration period: 25.222124388449174\n",
      "Final difference: 9.643930614913643\n"
     ]
    }
   ],
   "source": [
    "print(\"######### global fit vs NRLMSISE-00 #########\")\n",
    "print(\"Maximum difference across the integration period:\",1e3*max(abs((np.sqrt(res_x_heyoka_fit_global**2+res_y_heyoka_fit_global**2+res_z_heyoka_fit_global**2)-r_earth)*1e-3-(np.sqrt(res_x_scipy_nrlmsise00**2+res_y_scipy_nrlmsise00**2+res_z_scipy_nrlmsise00**2)-r_earth)*1e-3)))\n",
    "print(\"Final difference:\",1e3*(abs((np.sqrt(res_x_heyoka_fit_global[-1]**2+res_y_heyoka_fit_global[-1]**2+res_z_heyoka_fit_global[-1]**2)-r_earth)*1e-3-(np.sqrt(res_x_scipy_nrlmsise00[-1]**2+res_y_scipy_nrlmsise00[-1]**2+res_z_scipy_nrlmsise00[-1]**2)-r_earth)*1e-3)))\n",
    "\n",
    "print(\"\\n\\n######### NN vs NRLMSISE-00 #########\")\n",
    "print(\"Maximum difference across the integration period:\",1e3*max(abs((np.sqrt(res_x_heyoka_nn**2+res_y_heyoka_nn**2+res_z_heyoka_nn**2)-r_earth)*1e-3-(np.sqrt(res_x_scipy_nrlmsise00**2+res_y_scipy_nrlmsise00**2+res_z_scipy_nrlmsise00**2)-r_earth)*1e-3)))\n",
    "print(\"Final difference:\",1e3*(abs((np.sqrt(res_x_heyoka_nn[-1]**2+res_y_heyoka_nn[-1]**2+res_z_heyoka_nn[-1]**2)-r_earth)*1e-3-(np.sqrt(res_x_scipy_nrlmsise00[-1]**2+res_y_scipy_nrlmsise00[-1]**2+res_z_scipy_nrlmsise00[-1]**2)-r_earth)*1e-3)))"
   ]
  },
  {
   "cell_type": "markdown",
   "metadata": {},
   "source": [
    "As we notice, the differentiable atmosphere manages to capture very well the underlying behavior of NRLMSISE-00, maintaining (for 10 hours integrations) differences always below 23 meters, with a final difference of 9.45 meters, in the altitude of the satellite at an initial altitude of 350km (where drag is one of the main perturbations).\n",
    "\n",
    "Conversely, a global fit does not manage to maintain the same accuracy, reaching difference as high as 223 meters, and a final difference of 200 meters."
   ]
  }
 ],
 "metadata": {
  "kernelspec": {
   "display_name": "diff_drag_py38",
   "language": "python",
   "name": "python3"
  },
  "language_info": {
   "codemirror_mode": {
    "name": "ipython",
    "version": 3
   },
   "file_extension": ".py",
   "mimetype": "text/x-python",
   "name": "python",
   "nbconvert_exporter": "python",
   "pygments_lexer": "ipython3",
   "version": "3.11.6"
  },
  "orig_nbformat": 4
 },
 "nbformat": 4,
 "nbformat_minor": 2
}
