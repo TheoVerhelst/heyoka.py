{
 "cells": [
  {
   "cell_type": "markdown",
   "id": "cf5bb43b",
   "metadata": {},
   "source": [
    "Pseudo arc-length continuation in the CR3BP\n",
    "=====================================\n",
    "\n",
    "In this example we will refine the basic continuation scheme used in [Continuation of Periodic Orbits in the CR3BP](<./Periodic orbits in the CR3BP.ipynb>) and use instead, as continuation parameter, the [pseudo arc-length](https://en.wikipedia.org/wiki/Numerical_continuation#Pseudo-arclength_continuation) to obtain the family of Lyapunov orbits around L1.\n",
    "\n",
    "The resulting numerical scheme allows to follow through folds of the curve implicitly defined by the periodicity condition and the Poincare' phasing condition."
   ]
  },
  {
   "cell_type": "markdown",
   "id": "61d7a4e5",
   "metadata": {},
   "source": [
    "## Preamble\n",
    "As usual, we make some standard imports:"
   ]
  },
  {
   "cell_type": "code",
   "execution_count": 1,
   "id": "8b2a7edb",
   "metadata": {},
   "outputs": [],
   "source": [
    "import heyoka as hy\n",
    "import numpy as np\n",
    "import time \n",
    "\n",
    "from scipy.optimize import least_squares, root_scalar\n",
    "from copy import deepcopy\n",
    "\n",
    "from matplotlib.pylab import plt\n",
    "\n",
    "%matplotlib inline "
   ]
  },
  {
   "cell_type": "markdown",
   "id": "b2e5665b",
   "metadata": {},
   "source": [
    "... and define some functions that will help later on to visualize our trajectories and make nice plots. (ignore them and come back to this later in case you are curious)"
   ]
  },
  {
   "cell_type": "code",
   "execution_count": 2,
   "id": "a6309475",
   "metadata": {},
   "outputs": [],
   "source": [
    "def compute_L_points(mu, cf_px):\n",
    "    \"\"\"Computes The exact position of the Lagrangian points. To do so it finds the zeros of the\n",
    "    the dynamics equation for px.\n",
    "    \n",
    "        Args:\n",
    "            mu (float): The value of the mu parameter.\n",
    "            cf_px (heyoka compiled function): The px dynamics equation. (will only depend on x,y,z,py)\n",
    "\n",
    "        Returns:\n",
    "            xL1, xL2, xL3, xL45, yL45: The coordinates of the various Lagrangian Points\n",
    "    \"\"\"\n",
    "    # Position of the lagrangian points approximated\n",
    "    xL1 = (mu-1.) + (mu/3./(1.-mu))**(1/3)\n",
    "    xL2 = (mu-1.) - (mu/3./(1.-mu))**(1/3)\n",
    "    xL3 = -(mu-1.) - 7./12. * mu / (1-mu)\n",
    "    yL45 = np.sin(60./180.*np.pi)\n",
    "    xL45 = -0.5 + mu\n",
    "\n",
    "    # Solve for the static equilibrium from the approximated solution (x,y,z,py)\n",
    "    def equilibrium(expr, x,y):\n",
    "        retval = cf_px([x,y,0,x], pars = [mu])[0]\n",
    "        return retval\n",
    "\n",
    "    xL1 = root_scalar(lambda x: equilibrium(f, x,0.), x0=xL1,x1=xL1-1e-2).root\n",
    "    xL2 = root_scalar(lambda x: equilibrium(f, x,0.), x0=xL2,x1=xL2-1e-2).root\n",
    "    xL3 = root_scalar(lambda x: equilibrium(f, x,0.), x0=xL3,x1=xL3-1e-2).root\n",
    "    return xL1, xL2, xL3, xL45, yL45\n",
    "\n",
    "def potential_function(position,mu):\n",
    "    \"\"\"Computes the system potential\n",
    "        Args:\n",
    "            position (array-like): The position in Cartesian coordinates\n",
    "            mu (float): The value of the mu parameter.\n",
    "\n",
    "        Returns:\n",
    "            The potential\n",
    "    \"\"\"\n",
    "    x,y,z=position\n",
    "    r_1=np.sqrt((x-mu)**2+y**2+z**2)\n",
    "    r_2=np.sqrt((x-mu+1)**2+y**2+z**2)\n",
    "    Omega=1./2.*(x**2+y**2)+(1-mu)/r_1+mu/r_2\n",
    "    return Omega\n",
    "\n",
    "def jacobi_constant(state,mu):\n",
    "    \"\"\"Computes the system Jacobi constant\n",
    "        Args:\n",
    "            state (array-like): The system state (x,y,z,px,py,pz)\n",
    "            mu (float): The value of the mu parameter.\n",
    "\n",
    "        Returns:\n",
    "            The Jacobi constant for the state\n",
    "    \"\"\"\n",
    "    x,y,z,px,py,pz=state\n",
    "    vx = px + y\n",
    "    vy = py - x\n",
    "    vz = pz\n",
    "    r_1=np.sqrt((x-mu)**2+y**2+z**2)\n",
    "    r_2=np.sqrt((x-mu+1)**2+y**2+z**2)\n",
    "    Omega=1/2*(x**2+y**2)+(1-mu)/r_1+mu/r_2\n",
    "    T=1/2*(vx**2+vy**2+vz**2)\n",
    "    C=Omega-T\n",
    "    return C"
   ]
  },
  {
   "cell_type": "markdown",
   "id": "850ff8a6",
   "metadata": {},
   "source": [
    "We now define the CR3BP equations ... (see [circular restricted three-body problem](<./The restricted three-body problem.ipynb>)) "
   ]
  },
  {
   "cell_type": "code",
   "execution_count": 3,
   "id": "confused-excellence",
   "metadata": {},
   "outputs": [],
   "source": [
    "# Create the symbolic variables.\n",
    "symbols_state = [\"x\", \"y\", \"z\", \"px\", \"py\", \"pz\"]\n",
    "x = np.array(hy.make_vars(*symbols_state))\n",
    "# This will contain the r.h.s. of the equations\n",
    "f = []\n",
    "\n",
    "rps_32 = ((x[0] - hy.par[0])**2 + x[1]**2 + x[2]**2)**(-3/2.)\n",
    "rpj_32 = ((x[0] - hy.par[0]  + 1.)**2 + x[1]**2 + x[2]**2)**(-3/2.)\n",
    "\n",
    "# The r.h.s. of the equations of motion.\n",
    "f.append(x[3] + x[1])\n",
    "f.append(x[4] - x[0])\n",
    "f.append(x[5])\n",
    "f.append(x[4] - (1. - hy.par[0]) * rps_32 * (x[0] - hy.par[0]) - hy.par[0] * rpj_32 * (x[0] - hy.par[0] + 1.))\n",
    "f.append(-x[3] -((1. - hy.par[0]) * rps_32 + hy.par[0] * rpj_32) * x[1])\n",
    "f.append(-((1. - hy.par[0]) * rps_32 + hy.par[0] * rpj_32) * x[2])\n",
    "f = np.array(f)\n",
    "\n",
    "# We compile the r.h.s. of the dynamics into compiled functions as to later be able to evaluate their numerical values magnitude.\n",
    "cf_f = hy.make_cfunc(f, vars=x)\n",
    "cf_px = hy.make_cfunc([f[3]], vars=[x[0],x[1],x[2],x[4]]) # x,y,z,py"
   ]
  },
  {
   "cell_type": "markdown",
   "id": "d92596db",
   "metadata": {},
   "source": [
    "and the corresponding variational equations (see and [Continuation of Periodic Orbits in the CR3BP](<./Periodic orbits in the CR3BP.ipynb>)), which will be used to compute, in general, the state transition matrix $\\mathbf \\Phi$."
   ]
  },
  {
   "cell_type": "code",
   "execution_count": 4,
   "id": "76d34b7d",
   "metadata": {},
   "outputs": [],
   "source": [
    "symbols_phi = []\n",
    "for i in range(6):\n",
    "    for j in range(6):\n",
    "        # Here we define the symbol for the variations\n",
    "        symbols_phi.append(\"phi_\"+str(i)+str(j))  \n",
    "phi = np.array(hy.make_vars(*symbols_phi)).reshape((6,6))"
   ]
  },
  {
   "cell_type": "code",
   "execution_count": 5,
   "id": "b1bd6632",
   "metadata": {},
   "outputs": [],
   "source": [
    "dfdx = []\n",
    "for i in range(6):\n",
    "    for j in range(6):\n",
    "        dfdx.append(hy.diff(f[i],x[j]))\n",
    "dfdx = np.array(dfdx).reshape((6,6))"
   ]
  },
  {
   "cell_type": "code",
   "execution_count": 6,
   "id": "4f3f2e07",
   "metadata": {},
   "outputs": [],
   "source": [
    "# The (variational) equations of motion\n",
    "dphidt = dfdx@phi"
   ]
  },
  {
   "cell_type": "markdown",
   "id": "ad47ad1a",
   "metadata": {},
   "source": [
    "Finally, we create the dynamics in the format requested by *heyoka*, including all 6 + 6x6 = 42 equations:"
   ]
  },
  {
   "cell_type": "code",
   "execution_count": 7,
   "id": "65949284",
   "metadata": {},
   "outputs": [],
   "source": [
    "dyn = []\n",
    "for state, rhs in zip(x,f):\n",
    "    dyn.append((state, rhs))\n",
    "for state, rhs in zip(phi.reshape((36,)),dphidt.reshape((36,))):\n",
    "    dyn.append((state, rhs))\n",
    "# These are the initial conditions on the variational equations (the identity matrix)\n",
    "ic_var = np.eye(6).reshape((36,)).tolist()"
   ]
  },
  {
   "cell_type": "markdown",
   "id": "47618ce7",
   "metadata": {},
   "source": [
    "and instantiate the Taylor integrator (high accuracy and no compact mode)"
   ]
  },
  {
   "cell_type": "code",
   "execution_count": 8,
   "id": "37433a60",
   "metadata": {},
   "outputs": [
    {
     "name": "stdout",
     "output_type": "stream",
     "text": [
      "--- 4.902195453643799 seconds --- to build the Taylor integrator\n"
     ]
    }
   ],
   "source": [
    "start_time = time.time()\n",
    "ta = hy.taylor_adaptive(\n",
    "    # The ODEs.\n",
    "    dyn,\n",
    "    # The initial conditions.\n",
    "    [-0.45, 0.80, 0.00, -0.80, -0.45, 0.58] + ic_var,\n",
    "    # Operate below machine precision\n",
    "    # and in high-accuracy mode.\n",
    "    tol = 1e-18, high_accuracy = True\n",
    ")\n",
    "print(\"--- %s seconds --- to build the Taylor integrator\" % (time.time() - start_time))"
   ]
  },
  {
   "cell_type": "markdown",
   "id": "a67bc0d0",
   "metadata": {},
   "source": [
    "## The Pseudo arc-length continuation method\n",
    "In the most general form, and in a nutshell, numerical continuation considers an equation in the form:\n",
    "\n",
    "$$\n",
    "\\underline{{\\mathbf G}}\\left(\\underline{ \\mathbf x}, \\lambda\\right) = \\underline{\\mathbf 0}\n",
    "$$\n",
    "\n",
    "assumes a solution $\\underline{ \\mathbf x}_0, \\lambda_0$ is available and seeks a new solution $\\underline{ \\mathbf x}_0+\\delta\\underline{\\mathbf{x}}$ corrisponding to $\\lambda_0+\\delta \\lambda$. Pretty trivial right? Turns out its not. As $\\lambda$ varies, new solutions may appear, disappear bifurcate, fold, which makes it rather complicated!\n",
    "\n",
    "In cases where the solution curve implicitly defined by $\\underline{{\\mathbf G}}$ folds with respect to the continuation parameter $\\lambda$, we need to find a better parametrization. A common solution is to consider a new continuation parameter intrinsically linked to the solution curve geometry: the curve arc-length $s$. Assuming as reference $s=s_0$ in $\\underline{ \\mathbf x}_0, \\lambda_0$, the arc-length can be considered as a function of $\\underline{\\mathbf{x}}$ and $\\lambda$. We can then write $s = \\tilde s\\left(\\underline{ \\mathbf x}, \\lambda\\right)$.\n",
    "\n",
    "Under this idea one can formally write:\n",
    "\n",
    "$$\n",
    "\\left\\{\n",
    "\\begin{array}{l}\n",
    "\\underline{{\\mathbf G}}\\left(\\underline{ \\mathbf x}, \\lambda\\right) = \\underline{\\mathbf 0} \\\\\n",
    "\\tilde s\\left(\\underline{ \\mathbf x}, \\lambda\\right) - s = 0\n",
    "\\end{array}\n",
    "\\right.\n",
    "$$\n",
    "\n",
    "or, equivalently:\n",
    "\n",
    "$$\n",
    "\\underline{{\\mathbf G}}^*\\left(\\underline{ \\mathbf y}, s\\right) = \\underline{\\mathbf 0}\n",
    "$$\n",
    "\n",
    "where $\\underline{ \\mathbf y} = [\\underline{ \\mathbf x}, \\lambda ]$ and $\\underline{\\mathbf G}^*=[\\underline{\\mathbf G}, \\tilde s - s]$. Starting from the solution $[\\underline{ \\mathbf x}_0, \\lambda_0], s_0$ we have reformulated the problem and may now seek a new solution $[\\underline{ \\mathbf x}_0+\\delta\\underline{\\mathbf{x}}, \\lambda_0+\\delta \\lambda]$ corresponding to $s_0+\\delta s$. We obtain (at least formally) a continuation scheme able to follow easily through folds of the $\\underline{ \\mathbf x}, \\lambda$ curve, since the $\\underline{ \\mathbf y}, s$ curve has none! (the arc-length is always uniformly increasing along the solution curve).\n",
    "\n",
    "The problem now is that we cannot really compute $\\tilde s$ easily! But we can approximate $\\delta s$ as the projection of $[\\delta \\underline{ \\mathbf x}, \\delta \\lambda]$ onto the tangent vector $\\mathbf \\tau = \\left[\\frac{d\\underline{ \\mathbf x}}{ds}, \\frac{d\\lambda}{ds}\\right]$ (hence the name **pseudo** arc-length is used). \n",
    "\n",
    "Eventually, the system:\n",
    "\n",
    "$$\n",
    "\\left\\{\n",
    "\\begin{array}{l}\n",
    "\\underline{{\\mathbf G}}\\left(\\underline{ \\mathbf x}_0+\\delta \\underline{ \\mathbf x}, \\lambda_0+\\delta \\lambda\\right) = \\underline{\\mathbf 0} \\\\\n",
    "\\mathbf \\tau \\cdot [\\delta \\underline{ \\mathbf x}, \\delta \\lambda] -  \\delta s = 0\n",
    "\\end{array}\n",
    "\\right.\n",
    "$$\n",
    "\n",
    "is considered, and for a given increment of the pseudo arc-length $\\delta s$ is solved for $\\delta \\underline{ \\mathbf x}, \\delta \\lambda$."
   ]
  },
  {
   "cell_type": "markdown",
   "id": "b0a72475",
   "metadata": {},
   "source": [
    "### The case of continuing periodic orbits.\n",
    "In the case of a search for periodic solutions to the system $\\dot{\\underline{\\mathbf x}} =\\underline{ \\mathbf f}(\\underline{\\mathbf x})$ we indicate the generic solution to this system as $\\underline{ \\mathbf x}\\left(t; \\underline{ \\mathbf x}_0\\right)$ and may thus write the periodicity condition as:\n",
    "\n",
    "$$\n",
    "(1) \\qquad \\underline{ \\mathbf x}\\left(T; \\underline{ \\mathbf x}_0\\right) - \\underline{ \\mathbf x}_0 = \\mathbf 0\n",
    "$$\n",
    "\n",
    "We thus search for $\\underline{ \\mathbf x}_0, T$ roots of the equation above. Assuming we have one such solution, we will slightly abuse the notation and omit a further $0$ as a subscript in $\\underline{\\mathbf x}_0$ indicating such an initial solution simply as as $\\underline{\\mathbf x}_0, T_0$. \n",
    "\n",
    "To continue this initial solution we seek $\\delta\\underline{\\mathbf x}$ and $\\delta T$ so that:\n",
    "\n",
    "$$\n",
    "\\underline{ \\mathbf x}\\left(T_0 + \\delta T; \\underline{ \\mathbf x}_0 + \\delta\\underline{\\mathbf x}\\right) - \\underline{ \\mathbf x}_0 - \\delta\\underline{\\mathbf x}= \\mathbf 0\n",
    "$$\n",
    "\n",
    "In other words we are perturbing our initial condition and period and demand to end up in a new periodic orbit. It is straight forward to see that for any fixed $\\delta T$ there is more than one $\\underline{ \\mathbf x}_0$ that would do the trick. Infact any point on the whole new periodic orbit would work! Thus, as we saw also in [Continuation of Periodic Orbits in the CR3BP](<./Periodic orbits in the CR3BP.ipynb>), to recover a unique solution, we add the Poincare' phasing condition and search, instead, for a solution to the system:\n",
    "\n",
    "$$\n",
    "\\left\\{\n",
    "\\begin{array}{l}\n",
    "\\underline{ \\mathbf x}\\left(T_0 + \\delta T; \\underline{ \\mathbf x}_0 + \\delta\\underline{\\mathbf x}\\right) - \\underline{ \\mathbf x}_0 - \\delta\\underline{\\mathbf x}= \\mathbf 0 \\\\ \n",
    "\\delta \\underline{\\mathbf x} \\cdot \\underline{\\mathbf f} (\\underline{ \\mathbf x}_0) = 0\n",
    "\\end{array}\n",
    "\\right.\n",
    "$$\n",
    "\n",
    "this system of seven equations is our $\\underline{{\\mathbf G}} = \\underline{\\mathbf 0}$ with $\\delta T$ being our continuation parameter. \n",
    "\n",
    "We now apply the pseudo arc-length condition to avoid issues when the solution curve folds for increasing periods. \n",
    "\n",
    "We get:\n",
    "\n",
    "$$\n",
    "(2) \\qquad\n",
    "\\left\\{\n",
    "\\begin{array}{l}\n",
    "\\underline{ \\mathbf x}\\left(T_0 + \\delta T; \\underline{ \\mathbf x}_0 + \\delta\\underline{\\mathbf x}\\right) - \\underline{ \\mathbf x}_0 - \\delta\\underline{\\mathbf x}= \\mathbf 0 \\\\ \n",
    "\\delta \\underline{\\mathbf x} \\cdot \\underline{\\mathbf f} (\\underline{ \\mathbf x}_0) = 0 \\\\\n",
    "\\mathbf \\tau \\cdot [\\delta \\underline{ \\mathbf x}, \\delta T] = \\delta s\n",
    "\\end{array}\n",
    "\\right.\n",
    "$$\n",
    "\n",
    "which, with $\\delta s$ fixed, is an overdetermined system of 8 equations in the seven unknowns $\\delta\\underline{\\mathbf x}, \\delta T$. Note also that $\\mathbf \\tau$ is found differentiating  with respect to the pseudo arc-length $s$ our $\\underline{{\\mathbf G}}$ considering both $\\delta\\underline{\\mathbf x}(s)$ and $\\delta T(s)$ as a function of $s$ and then applying a normalization. We will solve the above system using a predictor corrector scheme."
   ]
  },
  {
   "cell_type": "markdown",
   "id": "ec72f250",
   "metadata": {},
   "source": [
    "### Predictor\n",
    "If we expand in Taylor series the relation (2) we get:\n",
    "\n",
    "$$\n",
    "\\left\\{\n",
    "\\begin{array}{l}\n",
    "(\\underline{\\underline{\\mathbf \\Phi}}-\\underline{\\underline{\\mathbf I}})\\delta\\underline{\\mathbf x} + \\underline{\\mathbf f} \\delta T = \\underline{\\mathbf 0}\\\\ \n",
    "\\delta \\underline{\\mathbf x} \\cdot \\underline{\\mathbf f} (\\underline{ \\mathbf x}_0) = 0 \\\\\n",
    "\\mathbf \\tau \\cdot [\\delta \\underline{ \\mathbf x}, \\delta T] = \\delta s\n",
    "\\end{array}\n",
    "\\right.\n",
    "$$\n",
    "\n",
    "which forms the basis to get a first guess (predictor) on the new continued state. \n",
    "\n",
    "It is convenient to assemble the following matrix:\n",
    "\n",
    "$$\n",
    "\\underline{\\underline{\\mathbf A}} = \n",
    "\\left[\n",
    "\\begin{array}{cc}\n",
    "\\underline{\\underline{\\mathbf \\Phi}}-\\underline{\\underline{\\mathbf I}} & \\underline {\\mathbf f} \\\\\n",
    "\\underline {\\mathbf f}^T & 0 \\\\\n",
    "\\underline {\\mathbf \\tau}_x^T & \\tau_T\n",
    "\\end{array}\n",
    "\\right]\n",
    "$$\n",
    "\n",
    "then, the predictor scheme, becomes:"
   ]
  },
  {
   "cell_type": "code",
   "execution_count": 9,
   "id": "0aac0f93",
   "metadata": {},
   "outputs": [],
   "source": [
    "# Single iteration from ic, t_final, ds\n",
    "def predictor(x0, T0, ds):\n",
    "    # 1 - We compute the state transition matrix Phi (integrating the full EOM for t_final)\n",
    "    ta.time = 0.\n",
    "    ta.state[:] = x0.tolist() + ic_var\n",
    "    out = ta.propagate_until(T0)\n",
    "    Phi = ta.state[6:].reshape((6,6))\n",
    "    # 2 - We compute the dynamics f (at zero, but for periodic orbits this is the same at T)\n",
    "    f_dyn = cf_f(x0, pars = [mu]).reshape(-1,1)\n",
    "    # 3 - Assemble the matrix A\n",
    "    A = np.concatenate((Phi-np.eye(6), f_dyn.T))\n",
    "    A = np.concatenate((A,np.insert(f_dyn,-1,0).reshape((-1,1))), axis=1)\n",
    "    # 4 - Compute the tangent vector tau\n",
    "    tauT = 1\n",
    "    taux = - np.linalg.inv(A[:,:6].T@A[:,:6])@(A[:,:6].T@A[:,-1]) * tauT\n",
    "    norm = np.sqrt(taux@taux + tauT*tauT)\n",
    "    tauT/=norm\n",
    "    taux/=norm\n",
    "    # 5 - Add to the matrix A\n",
    "    tmp = np.insert(taux,6,tauT).reshape(1,-1)\n",
    "    A = np.concatenate((A, tmp))\n",
    "    # 6 - Compute the b vector\n",
    "    b = np.zeros((8,1))\n",
    "    b[7,0] = ds\n",
    "    # 6 - Predict an initial guess\n",
    "    y = np.linalg.inv(A.T@A)@(A.T@b)\n",
    "    return y, taux, tauT"
   ]
  },
  {
   "cell_type": "markdown",
   "id": "a2c4fc2e",
   "metadata": {},
   "source": [
    "Lets instantiate our periodic solution. It is the same Lyapunov orbit we have used in the example [Continuation of Periodic Orbits in the CR3BP](<./Periodic orbits in the CR3BP.ipynb>). "
   ]
  },
  {
   "cell_type": "code",
   "execution_count": 10,
   "id": "3acbb840",
   "metadata": {},
   "outputs": [],
   "source": [
    "# These conditions correspond to a Lyapunov orbit closeto the L2 point\n",
    "ic = np.array([-8.3660628427188066e-01, 6.8716725011222035e-05, 0.0000000000000000e+00, -2.3615604665605682e-05, -8.3919863043620713e-01, 0.0000000000000000e+00])\n",
    "t_final=2.6915996001673941e+00\n",
    "mu=0.01215057\n",
    "ta.pars[0] = mu\n",
    "# Pseudo arc-length\n",
    "ds = 1e-3"
   ]
  },
  {
   "cell_type": "code",
   "execution_count": 11,
   "id": "61c624bb",
   "metadata": {},
   "outputs": [],
   "source": [
    "# We call the predictor\n",
    "predicted, taux, tauT = predictor(ic, t_final, ds)"
   ]
  },
  {
   "cell_type": "markdown",
   "id": "a58f836c",
   "metadata": {},
   "source": [
    "# Corrector\n",
    "We want to find  $\\delta \\underline{\\mathbf y} = [\\delta \\underline{\\mathbf{x}}, \\delta T]$ so that the system of equations (2), reported again below for convenience, is satisfied:\n",
    "$$\n",
    "(2)\n",
    "\\qquad\n",
    "\\left\\{\n",
    "\\begin{array}{l}\n",
    "\\underline{ \\mathbf x}\\left(T_0 + \\delta T; \\underline{ \\mathbf x}_0 + \\delta\\underline{\\mathbf x}\\right) - \\underline{ \\mathbf x}_0 - \\delta\\underline{\\mathbf x}= \\mathbf 0 \\\\ \n",
    "\\delta \\underline{\\mathbf x} \\cdot \\underline{\\mathbf f} (\\underline{ \\mathbf x}_0) = 0 \\\\\n",
    "\\mathbf \\tau \\cdot [\\delta \\underline{ \\mathbf x}, \\delta T] = \\delta s\n",
    "\\end{array}\n",
    "\\right.\n",
    "$$\n",
    "and can start from the guess returned by the predictor step.\n",
    "\n",
    "Different methods can be used to solve the overdetermined system of equations above (which admits a unique solution), we here use the least-square method implemented in scipy and give our own implementation of a Newton based method.\n",
    "\n",
    "First, we define a function that returns, for some $\\delta\\underline{\\mathbf y} = [\\delta \\underline{\\mathbf{x}}, \\delta T]$, the violations to the equations (2)."
   ]
  },
  {
   "cell_type": "code",
   "execution_count": 12,
   "id": "e2248db0",
   "metadata": {},
   "outputs": [],
   "source": [
    "def full_system(X0, T0, dy, taux, tauT, ds):\n",
    "    dx = deepcopy(dy[:6])\n",
    "    dT = deepcopy(dy[6])\n",
    "    x = X0 + dx\n",
    "    propagation_time = T0 + dT\n",
    "    # 1 - We compute the state at propagation_time\n",
    "    ta.time = 0.\n",
    "    ta.state[:] = x.tolist() + ic_var\n",
    "    out = ta.propagate_until(propagation_time)\n",
    "    # 2 - We compute the dynamics f (at zero, but for periodic orbits this is the same at T)\n",
    "    f_dyn0 = cf_f(X0, pars = [mu]).reshape(-1,1)\n",
    "    # 3 - Error on the state\n",
    "    state_err = ta.state[:6] - x\n",
    "    # Error on Poincare phasing\n",
    "    poin_err = dx@f_dyn0\n",
    "    # Error on pseudo arc-length\n",
    "    pseudo_err = taux@dx+tauT*dT - ds\n",
    "    # 4 - Assemble return value\n",
    "    retval = np.insert(state_err,6, poin_err)\n",
    "    retval = np.insert(retval,7, pseudo_err)\n",
    "    Phi = ta.state[6:].reshape((6,6))\n",
    "    return retval, Phi"
   ]
  },
  {
   "cell_type": "markdown",
   "id": "b3db289c",
   "metadata": {},
   "source": [
    "... we can then call the scipy.optimze.least_squares method to make such a violation vanish."
   ]
  },
  {
   "cell_type": "code",
   "execution_count": 13,
   "id": "5c6a9158",
   "metadata": {},
   "outputs": [],
   "source": [
    "# A least squared corrector\n",
    "def corrector_ls(X0, T0, dy0, taux, tauy, ds, tol = 1e-12):\n",
    "    sol = least_squares(lambda dy: full_system(X0, T0, dy, taux, tauT, ds)[0], dy0, ftol = tol)\n",
    "    return sol.x"
   ]
  },
  {
   "cell_type": "code",
   "execution_count": 14,
   "id": "67190515",
   "metadata": {},
   "outputs": [],
   "source": [
    "corrected_ls = corrector_ls(ic, t_final, predicted[:,0], taux, tauT, ds, tol=1e-14)"
   ]
  },
  {
   "cell_type": "markdown",
   "id": "6fab1942",
   "metadata": {},
   "source": [
    "We will inspect this result later. Now we implement our own Newton based method making use of the variational equations to compute the necessary gradient."
   ]
  },
  {
   "cell_type": "code",
   "execution_count": 15,
   "id": "75fd9508",
   "metadata": {},
   "outputs": [],
   "source": [
    "def corrector_Newton(X0, T0,dy, taux, tauy, ds, tol=1e-12, max_iter=100, verbose = False):  \n",
    "    flag_tol = False\n",
    "    \n",
    "    curr_dx = deepcopy(dy[:6])\n",
    "    curr_dT = deepcopy(dy[6])\n",
    "    \n",
    "    # Linearization point\n",
    "    curr_x = X0 + curr_dx.T\n",
    "    curr_T = T0 + curr_dT\n",
    "    \n",
    "    for i in range(max_iter):\n",
    "        # 1 - We compute the state transition matrix Phi (integrating the full EOM from curr_x for t_final)\n",
    "        ta.time = 0.\n",
    "        ta.state[:] = curr_x.tolist() + ic_var\n",
    "        out = ta.propagate_until(curr_T)\n",
    "        Phi = ta.state[6:].reshape((6,6))\n",
    "        # 2 - We compute the dynamics f (at the initial state)\n",
    "        f_dyn0 = cf_f(X0, pars = [mu]).reshape(-1,1)\n",
    "        # 3 - We compute the dynamics f (at curr_T)\n",
    "        f_dynT = cf_f(ta.state[:6], pars = [mu]).reshape(-1,1)\n",
    "        # 4 - Assemble the function (the full nonlinear system) value at the current point\n",
    "        state_err = ta.state[:6] - curr_x\n",
    "        # Error on Poincare phasing\n",
    "        poin_err = curr_dx@f_dyn0\n",
    "        # Error on pseudo arc-length\n",
    "        pseudo_err = taux@curr_dx+tauT*curr_dT - ds\n",
    "        b = np.zeros((8,1))\n",
    "        b[:6,0] = - state_err\n",
    "        b[6,0] = - poin_err\n",
    "        b[7,0] = - pseudo_err\n",
    "        if verbose:\n",
    "            print(np.linalg.norm(state_err), poin_err, pseudo_err)\n",
    "        toterror = np.abs(np.linalg.norm(state_err)) + np.abs(poin_err) + np.abs(pseudo_err)\n",
    "        if toterror < tol:\n",
    "            flag_tol = True\n",
    "            break\n",
    "        # 5 - Assemble the matrix A (gradient)\n",
    "        A = np.concatenate((Phi-np.eye(6), f_dynT.T))\n",
    "        A = np.concatenate((A,np.insert(f_dynT,-1,0).reshape((-1,1))), axis=1)\n",
    "        # add the tau row\n",
    "        tmp = np.insert(taux,6,tauT).reshape(1,-1)\n",
    "        A = np.concatenate((A, tmp))\n",
    "        \n",
    "        # Solve for new y = [dx, dT]\n",
    "        y = (np.linalg.inv(A.T@A)@A.T@b).reshape(-1,)\n",
    "        curr_dx += y[:6]\n",
    "        curr_dT += y[6]\n",
    "        curr_x = X0 + curr_dx.T\n",
    "        curr_T = T0 + curr_dT\n",
    "    if verbose:\n",
    "        if flag_tol:\n",
    "            print(\"Exit condition - Accuracy\")\n",
    "        else:\n",
    "            print(\"Exit condition - Maximum Iterations\")\n",
    "        print(\"Accuracy achieved: \", toterror)\n",
    "        print(\"Iterations: \", i)\n",
    "    return np.insert(curr_dx.T, 6, curr_dT)"
   ]
  },
  {
   "cell_type": "code",
   "execution_count": 16,
   "id": "bb8fd920",
   "metadata": {},
   "outputs": [],
   "source": [
    "corrected_N = corrector_Newton(ic, t_final, predicted[:,0], taux, tauT, ds, tol=1e-14, verbose = False)"
   ]
  },
  {
   "cell_type": "markdown",
   "id": "f75856a0",
   "metadata": {},
   "source": [
    "We now assess if the system (2) is actually solved, and to what precision, in both cases:"
   ]
  },
  {
   "cell_type": "code",
   "execution_count": 17,
   "id": "f62a73e5",
   "metadata": {},
   "outputs": [
    {
     "name": "stdout",
     "output_type": "stream",
     "text": [
      "Error for the Newton method: 8.573824179843603e-15\n",
      "Error for the Least-squares method: 1.2142886444425054e-12\n"
     ]
    }
   ],
   "source": [
    "errN = full_system(ic, t_final, corrected_N, taux, tauT,ds)[0]\n",
    "err_ls = full_system(ic, t_final, corrected_ls, taux, tauT,ds)[0]\n",
    "print(\"Error for the Newton method:\", np.linalg.norm(errN))\n",
    "print(\"Error for the Least-squares method:\", np.linalg.norm(err_ls))"
   ]
  },
  {
   "cell_type": "markdown",
   "id": "6ce7cfce",
   "metadata": {},
   "source": [
    "And check the CPU time:"
   ]
  },
  {
   "cell_type": "code",
   "execution_count": 18,
   "id": "0d0785a7",
   "metadata": {},
   "outputs": [
    {
     "name": "stdout",
     "output_type": "stream",
     "text": [
      "7.58 ms ± 9.08 µs per loop (mean ± std. dev. of 7 runs, 100 loops each)\n"
     ]
    }
   ],
   "source": [
    "%timeit corrector_Newton(ic, t_final, predicted[:,0], taux, tauT, ds, tol=1e-14)"
   ]
  },
  {
   "cell_type": "code",
   "execution_count": 19,
   "id": "8041e807",
   "metadata": {},
   "outputs": [
    {
     "name": "stdout",
     "output_type": "stream",
     "text": [
      "13.5 ms ± 188 µs per loop (mean ± std. dev. of 7 runs, 100 loops each)\n"
     ]
    }
   ],
   "source": [
    "%timeit corrector_ls(ic, t_final, predicted[:,0], taux, tauT, ds, tol=1e-14)"
   ]
  },
  {
   "cell_type": "markdown",
   "id": "14dc068a",
   "metadata": {},
   "source": [
    "Note that this CPU timing comparison is not entirely fair, as the least square solver is still integrating the variational equations, but not using the associated gradient information."
   ]
  },
  {
   "cell_type": "markdown",
   "id": "fa3b5947",
   "metadata": {},
   "source": [
    "# Producing the whole Lyapunov family\n",
    "We now use the code produced above to continue to a whole orbit family. We start defining an initial periodic orbit (around L1) and the starting point."
   ]
  },
  {
   "cell_type": "code",
   "execution_count": 20,
   "id": "f818f6c9",
   "metadata": {},
   "outputs": [],
   "source": [
    "# These conditions correspond to a Lyapunov orbit close to the L1 point\n",
    "ic = np.array([-8.3660628427188066e-01, 6.8716725011222035e-05, 0.0000000000000000e+00, -2.3615604665605682e-05, -8.3919863043620713e-01, 0.0000000000000000e+00])\n",
    "period=2.6915996001673941e+00\n",
    "\n",
    "# Starting point\n",
    "new_ic = deepcopy(ic)\n",
    "new_period = deepcopy(period)\n",
    "# Pseudo arc-length increment\n",
    "ds = 1e-3"
   ]
  },
  {
   "cell_type": "markdown",
   "id": "80f7ae0c",
   "metadata": {},
   "source": [
    "Finally we loop over the predictor-corrector and plot each orbit found."
   ]
  },
  {
   "cell_type": "code",
   "execution_count": null,
   "id": "fecca0cd",
   "metadata": {
    "scrolled": true
   },
   "outputs": [
    {
     "name": "stdout",
     "output_type": "stream",
     "text": [
      "ds: 0.001 err: 3.7125860080010274e-13\n",
      "Converged - increase ds\n",
      "ds: 0.0012 err: 1.1297503340463586e-13\n",
      "Converged - increase ds\n",
      "ds: 0.0014399999999999999 err: 2.0054823741788055e-13\n",
      "Converged - increase ds\n",
      "ds: 0.0017279999999999997 err: 7.624771600123291e-16\n",
      "Converged - increase ds\n",
      "ds: 0.0020735999999999997 err: 2.286492635797018e-13\n",
      "Converged - increase ds\n",
      "ds: 0.0024883199999999996 err: 3.167132102716876e-13\n",
      "Converged - increase ds\n",
      "ds: 0.0029859839999999993 err: 3.538672102411126e-14\n",
      "Converged - increase ds\n",
      "ds: 0.003583180799999999 err: 2.0052650646751112e-13\n",
      "Converged - increase ds\n",
      "ds: 0.0042998169599999985 err: 8.113302994273082e-13\n",
      "Converged - increase ds\n",
      "ds: 0.005159780351999998 err: 1.3803765177581485e-13\n",
      "Converged - increase ds\n",
      "Singular matrix - reducing ds\n",
      "ds: 0.005628851293090906 err: 0.149162938277794\n",
      "Low Precision - reducing ds\n",
      "ds: 0.005117137539173551 err: 0.051661475165313685\n",
      "Low Precision - reducing ds\n",
      "Singular matrix - reducing ds\n",
      "Singular matrix - reducing ds\n",
      "ds: 0.0038445811714301653 err: 3.430258445004303e-16\n",
      "Converged - increase ds\n",
      "Singular matrix - reducing ds\n",
      "ds: 0.004194088550651088 err: 0.18034373661749403\n",
      "Low Precision - reducing ds\n",
      "ds: 0.003812807773319171 err: 1.625453431156856e-13\n",
      "Converged - increase ds\n",
      "ds: 0.004575369327983005 err: 0.26047463481919153\n",
      "Low Precision - reducing ds\n",
      "ds: 0.0041594266618027315 err: 1.4697102368760275e-13\n",
      "Converged - increase ds\n",
      "ds: 0.004991311994163278 err: 0.015419299071966347\n",
      "Low Precision - reducing ds\n",
      "ds: 0.0045375563583302525 err: 0.009469637791999545\n",
      "Low Precision - reducing ds\n",
      "ds: 0.004125051234845684 err: 0.011685183396634347\n",
      "Low Precision - reducing ds\n",
      "ds: 0.0037500465771324394 err: 2.389957742578105e-13\n",
      "Converged - increase ds\n",
      "ds: 0.004500055892558927 err: 2.1565374580657768e-14\n",
      "Converged - increase ds\n",
      "Singular matrix - reducing ds\n",
      "Singular matrix - reducing ds\n",
      "Singular matrix - reducing ds\n",
      "ds: 0.004057150316356658 err: 1.4423641477437126e-13\n",
      "Converged - increase ds\n",
      "Singular matrix - reducing ds\n",
      "ds: 0.004425982163298171 err: 2.8616224763996445e-14\n",
      "Converged - increase ds\n",
      "Singular matrix - reducing ds\n",
      "Singular matrix - reducing ds\n",
      "ds: 0.004389403798312235 err: 1.3055592498534213e-13\n",
      "Converged - increase ds\n",
      "Singular matrix - reducing ds\n",
      "ds: 0.004788440507249711 err: 3.217864177116722e-13\n",
      "Converged - increase ds\n",
      "Singular matrix - reducing ds\n",
      "ds: 0.005223753280636048 err: 1.341698247013916e-13\n",
      "Converged - increase ds\n",
      "ds: 0.006268503936763257 err: 0.005025234270002906\n",
      "Low Precision - reducing ds\n",
      "ds: 0.005698639942512051 err: 6.332288055797163e-16\n",
      "Converged - increase ds\n",
      "Singular matrix - reducing ds\n",
      "ds: 0.006216698119104055 err: 5.878029260535262e-14\n",
      "Converged - increase ds\n",
      "ds: 0.007460037742924866 err: 0.033000640636744266\n",
      "Low Precision - reducing ds\n",
      "Singular matrix - reducing ds\n",
      "ds: 0.006165320448698235 err: 2.878597295091012e-13\n",
      "Converged - increase ds\n",
      "ds: 0.007398384538437882 err: 0.017468966290852112\n",
      "Low Precision - reducing ds\n",
      "ds: 0.006725804125852619 err: 2.264380956369148e-14\n",
      "Converged - increase ds\n",
      "ds: 0.008070964951023142 err: 0.1948631284448623\n",
      "Low Precision - reducing ds\n",
      "ds: 0.007337240864566492 err: 4.011561276684139e-13\n",
      "Converged - increase ds\n",
      "Singular matrix - reducing ds\n",
      "ds: 0.008004262761345264 err: 1.4183758132511748e-14\n",
      "Converged - increase ds\n",
      "Singular matrix - reducing ds\n",
      "ds: 0.008731923012376653 err: 7.59557369241061e-16\n",
      "Converged - increase ds\n",
      "ds: 0.010478307614851983 err: 0.12770158502714596\n",
      "Low Precision - reducing ds\n",
      "ds: 0.009525734195319983 err: 3.8761389911822585e-13\n",
      "Converged - increase ds\n",
      "Singular matrix - reducing ds\n",
      "ds: 0.010391710031258163 err: 3.0922685544040364e-14\n",
      "Converged - increase ds\n",
      "ds: 0.012470052037509794 err: 3.7541886997112583\n",
      "Low Precision - reducing ds\n",
      "ds: 0.011336410943190722 err: 3.0173437599136796e-13\n",
      "Converged - increase ds\n",
      "ds: 0.013603693131828866 err: 1.8776040709339157\n",
      "Low Precision - reducing ds\n",
      "ds: 0.01236699375620806 err: 3.8396373049524095e-13\n",
      "Converged - increase ds\n",
      "ds: 0.01484039250744967 err: 9.872486436897804e-14\n",
      "Converged - increase ds\n"
     ]
    }
   ],
   "source": [
    "plt.figure(figsize=(9,9))\n",
    "\n",
    "ax = plt.subplot(1,1,1)\n",
    "# We find the postiion of the lagrangian points\n",
    "xL1, xL2, xL3, xL45, yL45 = compute_L_points(mu, cf_px)\n",
    "\n",
    "# Plot the lagrangian points and primaries\n",
    "zoom=1.5\n",
    "ax.set_xlim(xL1-zoom, xL1+zoom)\n",
    "ax.set_ylim(-zoom, +zoom)\n",
    "ax.scatter(mu, 0, c='k', s=100)\n",
    "ax.scatter(mu-1, 0, c='k', s=30)\n",
    "ax.scatter(xL1, 0, c='r', s=10)\n",
    "ax.scatter(xL2, 0, c='r', s=10)\n",
    "ax.scatter(xL3, 0, c='r', s=10)\n",
    "ax.scatter(-0.5+mu, yL45, c='r', s=10)\n",
    "ax.scatter(-0.5+mu, -yL45, c='r', s=10)\n",
    "\n",
    "#Set to true to get more info on the iterations\n",
    "verbose = True\n",
    "start_time = time.time()\n",
    "# Main iterations\n",
    "for i in range(200):\n",
    "    # We call the predictor\n",
    "    predicted, taux, tauT = predictor(new_ic, new_period, ds)\n",
    "    # We call the corrector, if it fails (A^tA goes singular) we decrease the pseudo arc-length and try again\n",
    "    try:\n",
    "        corrected_N = corrector_Newton(new_ic, new_period, predicted[:,0], taux, tauT, ds, tol=1e-15)\n",
    "        # Check convergence\n",
    "        errN, Phi = full_system(new_ic, new_period, corrected_N, taux, tauT,ds)\n",
    "        err = np.linalg.norm(errN)\n",
    "        # Log\n",
    "        if verbose:\n",
    "            print(\"ds:\", ds, \"err:\", err)\n",
    "        # Accept the step\n",
    "        if err < 1e-12:\n",
    "            new_ic = new_ic + corrected_N[:6]\n",
    "            new_period = new_period + corrected_N[6]\n",
    "            if verbose: \n",
    "                print(\"Converged - increase ds\")\n",
    "            ds*=1.2\n",
    "            if ds >0.05:\n",
    "                ds=0.05\n",
    "            # Reset the state\n",
    "            ta.time = 0\n",
    "            ta.state[:] = new_ic.tolist() + ic_var\n",
    "            # Time grid\n",
    "            t_grid = np.linspace(0, new_period, 2000)\n",
    "            # Propagate\n",
    "            out = ta.propagate_grid(t_grid)\n",
    "            # Plot\n",
    "            ax.plot(out[4][:, 0], out[4][:, 1],'g', alpha=0.3)\n",
    "        # Reject the step\n",
    "        else:\n",
    "            ds/=1.1\n",
    "            if verbose:\n",
    "                print(\"Low Precision - reducing ds\")\n",
    "    # The (A^T A) matrix was likely singular, we reduce the step ad try again.\n",
    "    except:\n",
    "        if verbose:\n",
    "            print(\"Singular matrix - reducing ds\")\n",
    "        ds/=1.1\n",
    "print(\"--- %s seconds --- to do the iterations\" % (time.time() - start_time))"
   ]
  }
 ],
 "metadata": {
  "kernelspec": {
   "display_name": "Python 3 (ipykernel)",
   "language": "python",
   "name": "python3"
  },
  "language_info": {
   "codemirror_mode": {
    "name": "ipython",
    "version": 3
   },
   "file_extension": ".py",
   "mimetype": "text/x-python",
   "name": "python",
   "nbconvert_exporter": "python",
   "pygments_lexer": "ipython3",
   "version": "3.10.6"
  }
 },
 "nbformat": 4,
 "nbformat_minor": 5
}
