{
 "cells": [
  {
   "cell_type": "markdown",
   "id": "801cc87e",
   "metadata": {},
   "source": [
    "# Neural Hamiltonian ODEs\n",
    "Where we define a perturbation to the hamiltonian mechanics parametrized by a FFNN. This is different, but also obviously connected, from what was briefly studied in the paper:\n",
    "\n",
    "*Greydanus, S., Dzamba, M., & Yosinski, J.* (2019). Hamiltonian Neural Networks. Advances in neural information processing systems, 32.\n",
    "\n",
    "in that only the perturbation of the Hamiltonian is parametrized by a network. Let us consider the same system as [in the previous example](./NeuralODEs.ipynb), but this time using the Hamiltonian formalism. We will shortly summarize, in what follows, the obvious as to show later how to obtain the same symbolically and using *heyoka*.\n",
    "\n",
    "Let us first introduce our Lagrangian coordinates $\\mathbf q = [x, y]$ and their derivatives: $\\dot{\\mathbf q} = [v_x, v_y]$. Under this choice we may compute the kinetic energy of the system as:\n",
    "\n",
    "$$\n",
    "T = \\frac 12 (v_x^2 + v_y^2)\n",
    "$$\n",
    "\n",
    "its potential energy as:\n",
    "\n",
    "$$\n",
    "U = \\frac 12 k_x x^2 + \\frac 12 k_y y^2\n",
    "$$\n",
    "\n",
    "and thus its Lagrangian as:\n",
    "\n",
    "$$\n",
    "\\left(\\mathbf q, \\dot{\\mathbf q}\\right) = T - U\n",
    "$$\n",
    "\n",
    "We can then compute the trivial *canonical momenta* $\\mathbf p=[p_x, p_y]$ as:\n",
    "\n",
    "$$\n",
    "\\begin{array}{l}\n",
    "p_x = \\frac{\\partial {\\mathcal L}}{\\partial v_x} = v_x \\\\\n",
    "p_y = \\frac{\\partial {\\mathcal L}}{\\partial v_y} = v_y \\\\\n",
    "\\end{array}\n",
    "$$\n",
    "\n",
    "And the Hamiltonian as:\n",
    "\n",
    "$$\n",
    "\\mathcal H = \\sum_{i=1}^2 p_i \\dot q_i - \\mathcal L = T + U\n",
    "$$\n",
    "\n",
    "... a complicated, albeit very generic, way to show that the system energy is the Hamiltonian!"
   ]
  },
  {
   "cell_type": "code",
   "execution_count": 1,
   "id": "7030234e",
   "metadata": {},
   "outputs": [],
   "source": [
    "# The usual main imports\n",
    "import heyoka as hy\n",
    "import numpy as np\n",
    "\n",
    "%matplotlib inline\n",
    "import matplotlib.pyplot as plt"
   ]
  },
  {
   "cell_type": "code",
   "execution_count": 2,
   "id": "b9b57295",
   "metadata": {},
   "outputs": [],
   "source": [
    "x, y, px, py = hy.make_vars(\"x\",\"y\",\"px\",\"py\")\n",
    "H = 0.5 * px**2 + 0.5 * py**2 + 0.5 * hy.par[0] * x**2 + 0.5 * hy.par[1] * y**2"
   ]
  },
  {
   "cell_type": "markdown",
   "id": "c8515952",
   "metadata": {},
   "source": [
    "Now, let us define a perturbation to this Hamiltonian, one parametrised by a FFNN:\n",
    "\n",
    "$$\n",
    "\\mathcal H_\\theta(\\mathbf p, \\mathbf q) = \\mathcal H + \\epsilon \\mathcal N_\\theta(\\mathbf p, \\mathbf q)\n",
    "$$"
   ]
  },
  {
   "cell_type": "code",
   "execution_count": 3,
   "id": "8901c175",
   "metadata": {},
   "outputs": [],
   "source": [
    "# Network parameters (play around)\n",
    "nn_hidden = [10, 10]\n",
    "activations = [hy.tanh, hy.tanh, hy.tanh] # the output will be in [-1,1]\n",
    "n_inputs = 4\n",
    "n_outputs = 1\n",
    "nn_layers = [n_inputs] + nn_hidden + [n_outputs]\n",
    "\n",
    "# Weight matrices\n",
    "Ws = []\n",
    "for i in range(0, len(activations)):\n",
    "    Ws.append(0.5 - np.random.random((nn_layers[i], nn_layers[i+1])))\n",
    "# Bias vectors\n",
    "bs = []\n",
    "for i in range(0, len(activations)):\n",
    "    bs.append(np.random.random((nn_layers[i+1],1)))\n",
    "# Flatten everything\n",
    "flattened_nw =  np.concatenate([it.flatten() for it in Ws] + [it.flatten() for it in bs])\n",
    "\n",
    "# Calling the ffnn factory\n",
    "ffnn = hy.model.ffnn(inputs = [x, y, px, py], nn_hidden = nn_hidden, n_out = n_outputs, activations = activations, nn_wb = flattened_nw)\n",
    "\n",
    "# Perturbing the Hamiltonian\n",
    "H = H + hy.par[2] * ffnn[0]"
   ]
  },
  {
   "cell_type": "markdown",
   "id": "3b3808d3",
   "metadata": {},
   "source": [
    "And we may now compute the equations of motion:\n",
    "\n",
    "$$\n",
    "\\begin{array}{l}\n",
    "\\dot{\\mathbf q} = \\frac{\\partial \\mathcal H}{\\partial\\mathbf p} \\\\\n",
    "\\dot{\\mathbf p} = - \\frac{\\partial \\mathcal H}{\\partial\\mathbf q}\n",
    "\\end{array}\n",
    "$$\n",
    "\n"
   ]
  },
  {
   "cell_type": "code",
   "execution_count": 4,
   "id": "93c264f5",
   "metadata": {},
   "outputs": [],
   "source": [
    "dynamics = [(x, hy.diff(H, px)), (y, hy.diff(H, py)), (px, -hy.diff(H, x)), (py, -hy.diff(H, y))]"
   ]
  },
  {
   "cell_type": "markdown",
   "id": "efdbcaeb",
   "metadata": {},
   "source": [
    "And define our numerical integrator ... guess ... yes a Taylor integration scheme!"
   ]
  },
  {
   "cell_type": "code",
   "execution_count": 5,
   "id": "5ac54bc7",
   "metadata": {},
   "outputs": [],
   "source": [
    "taH = hy.taylor_adaptive(\n",
    "    # The ODEs.\n",
    "    dynamics,\n",
    "    # The initial conditions.\n",
    "    [0., 1., 1., 0.],\n",
    "    tol = 1e-16,\n",
    "    compact_mode = True\n",
    ")"
   ]
  },
  {
   "cell_type": "code",
   "execution_count": 6,
   "id": "f2368fe7",
   "metadata": {},
   "outputs": [],
   "source": [
    "taH.state[:] = [0., 1., 1., 0.]\n",
    "taH.time = 0\n",
    "taH.pars[:] = [1,1,0.0]\n",
    "tgrid = np.linspace(0,40,1000)\n",
    "sol = taH.propagate_grid(tgrid)"
   ]
  },
  {
   "cell_type": "code",
   "execution_count": 7,
   "id": "6500272a",
   "metadata": {},
   "outputs": [],
   "source": [
    "taH.state[:] = [0., 1., 1., 0.]\n",
    "taH.time = 0\n",
    "taH.pars[:] = [1,1,5.3]\n",
    "tgrid = np.linspace(0,40,1000)\n",
    "sol_pert = taH.propagate_grid(tgrid)"
   ]
  },
  {
   "cell_type": "code",
   "execution_count": 8,
   "id": "4b1521d0",
   "metadata": {},
   "outputs": [
    {
     "data": {
      "text/plain": [
       "[<matplotlib.lines.Line2D at 0x1405380d0>]"
      ]
     },
     "execution_count": 8,
     "metadata": {},
     "output_type": "execute_result"
    },
    {
     "data": {
      "image/png": "[encoded data removed]",
      "text/plain": [
       "<Figure size 640x480 with 1 Axes>"
      ]
     },
     "metadata": {},
     "output_type": "display_data"
    }
   ],
   "source": [
    "plt.plot(sol[4][:,0], sol[4][:,1])\n",
    "plt.plot(sol_pert[4][:,0], sol_pert[4][:,1], 'r')"
   ]
  },
  {
   "cell_type": "markdown",
   "id": "f6c11db9",
   "metadata": {},
   "source": [
    "Clearly, the power and interest of this technique, applied to Hamiltonian systems, lies in the possibility to define some good training for the FFNN weights and biases so that the final system converges to something useful \n",
    "\n",
    "\n",
    "... and that IS all!"
   ]
  }
 ],
 "metadata": {
  "kernelspec": {
   "display_name": "Python 3 (ipykernel)",
   "language": "python",
   "name": "python3"
  },
  "language_info": {
   "codemirror_mode": {
    "name": "ipython",
    "version": 3
   },
   "file_extension": ".py",
   "mimetype": "text/x-python",
   "name": "python",
   "nbconvert_exporter": "python",
   "pygments_lexer": "ipython3",
   "version": "3.10.6"
  }
 },
 "nbformat": 4,
 "nbformat_minor": 5
}
