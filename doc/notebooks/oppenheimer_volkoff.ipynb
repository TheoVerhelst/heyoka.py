{
 "cells": [
  {
   "cell_type": "markdown",
   "metadata": {},
   "source": [
    "# The Tolman–Oppenheimer–Volkoff equations (Lindblom's form)\n",
    "\n",
    "We study the log-entalpy formulation of the Oppenheimer–Volkoff equations (also known as Lindblom's form). This formulation (here taken from [Martin Jakob Steil's thesis](https://theorie.ikp.physik.tu-darmstadt.de/nhq/downloads/thesis/master.steil.pdf) in Section 3.2.3) \n",
    "has several advantages w.r.t. the original formulation by Tolman–Oppenheimer–Volkoff:\n",
    "\n",
    "* It directly describes the radius and mass of the star.\n",
    "* It has a known integration domain.\n",
    "* It is not stiff.\n",
    "\n",
    "In this formulation, the state is:\n",
    "\n",
    "$$\n",
    "\\mathbf x=[r^2, m/r]=[x_0, x_1]\n",
    "$$,\n",
    "\n",
    "and the parameters are:\n",
    "\n",
    "$$\n",
    "\\mathbf p = [\\eta_K, \\eta_\\Gamma]\n",
    "$$,\n",
    "\n",
    " where $K = \\overline K(1+\\eta_K)$ and $\\Gamma = \\overline \\Gamma(1+\\eta_\\Gamma)$ will parameterize the equation of state of a polytrope (a gaseous sphere in hydrodynamic equilibrium).\n",
    "\n",
    "The equations are then written as:\n",
    "\n",
    "$$\\Large\n",
    "\\left\\{\n",
    "\\begin{array}{ll}\n",
    "\\frac{dx_0}{dh} &= -\\frac{2x_0 (1-2x_1)}{4\\pi x_0 P(h) + x_1}\\\\\n",
    "\\frac{dx_1}{dh} &= \\left(2\\pi \\epsilon(h) - \\frac{x_1}{2x_0}\\right) \\frac{dx_0}{dh} \\\\\n",
    "\\end{array}\\right.\n",
    "$$\n",
    "\n",
    "where an equation of state is needed to define the pressure $P(h)$ and energy density $\\epsilon(h)$ expressions. \n",
    "\n",
    "In the case of a relativistic polytrope here studied, the log-entalpy is introduced and defined as:\n",
    "\n",
    "$$\n",
    "h = \\log{[(\\epsilon+P) / \\rho]}\n",
    "$$\n",
    "\n",
    "where $\\rho$ is the (baryonic) mass density (following a [polytropic process](https://en.wikipedia.org/wiki/Polytropic_process)):\n",
    "\n",
    "$$\\Large\n",
    "\\begin{array}{l}\n",
    "\\rho = (\\frac{P}{K})^{1/\\Gamma} \\\\\n",
    "\\epsilon = \\rho + P / (\\Gamma-1)\n",
    "\\end{array}\n",
    "$$\n",
    "\n",
    "Hence, in this case the log-entalpy can be written as:\n",
    "$$\n",
    "h = \\log\\left(1 + \\frac{\\Gamma}{\\Gamma-1} K^{\\frac 1\\Gamma} P^{1-\\frac 1\\Gamma}\\right)\n",
    "$$\n",
    "\n",
    "which can be inverted to yield the $P(h)$ form:\n",
    "$$\n",
    "P(h) = K^{-\\frac{1}{\\Gamma-1}}\\left[\\frac{\\Gamma-1}{\\Gamma}\\left(e^h-1\\right)\\right]^{\\frac{\\Gamma}{\\Gamma-1}}\n",
    "$$\n",
    "\n",
    "\n",
    "**Note**: the dynamics is singular at $h=0$ (of a removable kind), so we will need to define the initial conditions at some small $\\delta h$ where the singularity is not present.\n"
   ]
  },
  {
   "cell_type": "code",
   "execution_count": 1,
   "metadata": {},
   "outputs": [],
   "source": [
    "import heyoka as hy\n",
    "import numpy as np\n",
    "from scipy import optimize\n",
    "from copy import deepcopy\n",
    "\n",
    "import time\n",
    "\n",
    "import matplotlib.pyplot as plt"
   ]
  },
  {
   "cell_type": "markdown",
   "metadata": {},
   "source": [
    "# 0 - Preamble \n",
    "Let us start introducing common definitions and the reference numerical values we will be using for the parameters $K, \\Gamma$ of the polytrope."
   ]
  },
  {
   "cell_type": "code",
   "execution_count": 2,
   "metadata": {},
   "outputs": [],
   "source": [
    "# State variables\n",
    "x0, x1 = hy.make_vars(\"x0\", \"x1\")\n",
    "\n",
    "# The independent variable is log-enthalpy not time, thus we rename it as follows:\n",
    "h = hy.time\n",
    "\n",
    "# Parameters values\n",
    "Gamma_v = 2.0\n",
    "K_v = 100.0\n",
    "\n",
    "# Parameters expressions\n",
    "Gamma = Gamma_v * (1.0 + hy.par[0])\n",
    "K = K_v * (1.0 + hy.par[1])\n",
    "\n",
    "# Other expressions\n",
    "P = hy.exp(hy.log(K) * (-1.0 / (Gamma - 1.0))) * hy.exp(\n",
    "    hy.log((Gamma - 1.0) / Gamma * (hy.exp(h) - 1.0)) * (Gamma / (Gamma - 1.0))\n",
    ")\n",
    "rho = hy.exp(hy.log(P / K) / Gamma)\n",
    "eps = rho + P / (Gamma - 1.0)\n",
    "\n",
    "# The dynamics\n",
    "dx0dh = -2.0 * x0 * (1.0 - 2.0 * x1) / (4.0 * np.pi * x0 * P + x1)\n",
    "dyn = [\n",
    "    (x0, dx0dh),\n",
    "    (x1, (2.0 * np.pi * eps - x1 / 2.0 / x0) * dx0dh),\n",
    "]"
   ]
  },
  {
   "cell_type": "markdown",
   "metadata": {},
   "source": [
    "# 1 - Standard Numerical Solution\n",
    "The Tolman–Oppenheimer–Volkoff equations in the Lindblom form are numerically well behaved. \n",
    "\n",
    "We here show a straight forward numerical integration using the Taylor adaptive scheme of *heyoka*."
   ]
  },
  {
   "cell_type": "code",
   "execution_count": 3,
   "metadata": {},
   "outputs": [],
   "source": [
    "# We instantiate the numerical ODE solver\n",
    "ta = hy.taylor_adaptive(dyn, state=[1.0, 1.0], time=0.1, tol=1e-16)"
   ]
  },
  {
   "cell_type": "markdown",
   "metadata": {},
   "source": [
    "We define the conditions at the star center fixing the pressure $P_c$, and thus computing the corresponding density $\\rho_c$, energy density $\\epsilon_c$ and log-entalpy $h_c$"
   ]
  },
  {
   "cell_type": "code",
   "execution_count": 4,
   "metadata": {},
   "outputs": [
    {
     "name": "stdout",
     "output_type": "stream",
     "text": [
      "Conditions at the star center:\n",
      "\n",
      "Pressure:  0.01\n",
      "Energy density:  0.02\n",
      "Density:  0.01\n",
      "log-entalpy:  1.0986122886681098\n"
     ]
    }
   ],
   "source": [
    "# Pressure (Change this value to then approximate different part of the M-R curve)\n",
    "P_c = 1e-2\n",
    "\n",
    "# Density\n",
    "rho_c = (P_c / K_v) ** (1.0 / Gamma_v)\n",
    "\n",
    "# Energy density\n",
    "eps_c = rho_c + P_c / (Gamma_v - 1.0)\n",
    "\n",
    "# log-entalpy\n",
    "h_c = np.log(\n",
    "    1 + Gamma_v / (Gamma_v - 1) * K_v ** (1 / Gamma_v) * P_c ** (1.0 - 1.0 / Gamma_v)\n",
    ")\n",
    "\n",
    "print(\"Conditions at the star center:\")\n",
    "print(\"\\nPressure: \", P_c)\n",
    "print(\"Energy density: \", eps_c)\n",
    "print(\"Density: \", rho_c)\n",
    "print(\"log-entalpy: \", h_c)"
   ]
  },
  {
   "cell_type": "markdown",
   "metadata": {},
   "source": [
    "From the conditions at the star center (c) we derive the initial conditions (0) for the numerical integration offsetting the entalpy (the independent variable) by a small amount, thus avoiding the numerical (removable) singularity in the dynamics:"
   ]
  },
  {
   "cell_type": "code",
   "execution_count": 5,
   "metadata": {},
   "outputs": [],
   "source": [
    "# Since the dynamics is singular at h_c, we define the initial conditions at h_0 = h_c - dh\n",
    "dh = 1e-6 # note that if this gets too small the variational equations may have numerical issues at h_0.\n",
    "h_0 = h_c-dh\n",
    "\n",
    "# Initial conditions at h_0 (from Steil thesis). Could be improved at second order.\n",
    "x0_0 = 3.0 / (2.0 * np.pi * (3.0 * P_c + eps_c)) * dh\n",
    "x1_0 = 2.0 * eps_c / (3*P_c+eps_c) * dh\n",
    "y_0 = [x0_0, x1_0]"
   ]
  },
  {
   "cell_type": "markdown",
   "metadata": {},
   "source": [
    "We are now ready to perform a numerical integration, and extract from the result the star radius and mass:"
   ]
  },
  {
   "cell_type": "code",
   "execution_count": 6,
   "metadata": {},
   "outputs": [
    {
     "name": "stdout",
     "output_type": "stream",
     "text": [
      "Total time to propagate: 0.0002999305725097656\n",
      "Outcome (should be time_limit if all went well):  time_limit\n",
      "Final value for the stellar radius is:  5.51113483059698\n",
      "Final value for the stellar mass is:  1.36846136138855\n"
     ]
    }
   ],
   "source": [
    "start = time.time()\n",
    "ta.time = h_0\n",
    "ta.state[:] = y_0\n",
    "ta.pars[:] = [0., 0.]\n",
    "time_grid = np.linspace(h_0, 0., 100) \n",
    "sol = ta.propagate_grid(time_grid)\n",
    "time_cost = time.time() - start\n",
    "print(\"Total time to propagate:\", time_cost)\n",
    "print(\"Outcome (should be time_limit if all went well): \", str(sol[0]).split(\".\")[1])\n",
    "\n",
    "# The mass and radius are easily computed from the last value reached\n",
    "rf = np.sqrt(sol[-1][:,0][-1])\n",
    "Mf = sol[-1][:,1][-1] * rf\n",
    "\n",
    "print(\"Final value for the stellar radius is: \", rf)\n",
    "print(\"Final value for the stellar mass is: \", Mf)"
   ]
  },
  {
   "cell_type": "markdown",
   "metadata": {},
   "source": [
    "we now plot the results of the numerical integration."
   ]
  },
  {
   "cell_type": "code",
   "execution_count": 7,
   "metadata": {},
   "outputs": [
    {
     "data": {
      "image/png": "[encoded data removed]",
      "text/plain": [
       "<Figure size 640x480 with 4 Axes>"
      ]
     },
     "metadata": {},
     "output_type": "display_data"
    }
   ],
   "source": [
    "r2_plot = sol[-1][:,0]\n",
    "mr_plot = sol[-1][:,1]\n",
    "\n",
    "# Plots\n",
    "ax = plt.subplot(2,2,1)\n",
    "ax.plot(-time_grid, r2_plot)\n",
    "ax.set_xlabel(\"h\")\n",
    "ax.set_ylabel(\"$x_0 = r^2$\")\n",
    "\n",
    "ax = plt.subplot(2,2,2)\n",
    "ax.plot(-time_grid, mr_plot)\n",
    "ax.set_xlabel(\"h\")\n",
    "ax.set_ylabel(\"$x_1 = M / r$\")\n",
    "\n",
    "ax = plt.subplot(2,2,3)\n",
    "ax.plot(-time_grid, np.sqrt(r2_plot))\n",
    "ax.set_xlabel(\"h\")\n",
    "ax.set_ylabel(\"r\")\n",
    "\n",
    "ax = plt.subplot(2,2,4)\n",
    "ax.plot(-time_grid, mr_plot*np.sqrt(r2_plot))\n",
    "ax.set_xlabel(\"h\")\n",
    "ax.set_ylabel(\"M\")\n",
    "plt.tight_layout()\n"
   ]
  },
  {
   "cell_type": "markdown",
   "metadata": {},
   "source": [
    "# 2 - Variational equations\n",
    "We seek an analytical expression for the stellar mass and radius, as a function of the variation of the conditions at the stellar center $\\delta h_c$. "
   ]
  },
  {
   "cell_type": "markdown",
   "metadata": {},
   "source": [
    "In order to obtain the expressions seeked, a variational equation for the initial value of the entalpy (the independent variable) $h_0$ is also needed. We thus introduce a last variable change $\\overline h_0 s = h$ so that the differential equations become:\n",
    "\n",
    "$$\\Large\n",
    "\\left\\{\n",
    "\\begin{array}{ll}\n",
    "\\frac{dx_0}{ds} &= - \\overline h_0 \\frac{2x_0 (1-2x_1)}{4\\pi x_0 P(s) + x_1}\\\\\n",
    "\\frac{dx_1}{ds} &= \\left(2\\pi \\epsilon(s) - \\frac{x_1}{2x_0}\\right) \\frac{dx_0}{ds} \\\\\n",
    "\\end{array}\\right.\n",
    "$$\n",
    "\n",
    "with:\n",
    "$$\n",
    "P(s) = K^{-\\frac{1}{\\Gamma-1}}\\left[\\frac{\\Gamma-1}{\\Gamma}\\left(e^{\\overline h_0 s}-1\\right)\\right]^{\\frac{\\Gamma}{\\Gamma-1}}\n",
    "$$\n",
    "\n",
    "and:\n",
    "$$\\Large\n",
    "\\begin{array}{l}\n",
    "\\rho(s) = \\left(\\frac{P(s)}{K}\\right)^{1/\\Gamma} \\\\\n",
    "\\epsilon(s) = \\rho + P(s) / (\\Gamma-1)\n",
    "\\end{array}\n",
    "$$\n",
    "and must be integrated for $s \\in [1, 0]$, which will correspond to $h \\in [\\overline h_0, 0]$"
   ]
  },
  {
   "cell_type": "code",
   "execution_count": 8,
   "metadata": {},
   "outputs": [],
   "source": [
    "# The independent variable is s, not h = log(entalpy) nor t.\n",
    "s = hy.time\n",
    "\n",
    "# Important expressions\n",
    "P = hy.exp(hy.log(K) * (-1.0 / (Gamma - 1.0))) * hy.exp(\n",
    "    hy.log((Gamma - 1.0) / Gamma * (hy.exp(h) - 1.0)) * (Gamma / (Gamma - 1.0))\n",
    ")\n",
    "rho = hy.exp(hy.log(P / K) / Gamma)\n",
    "eps = rho + P / (Gamma - 1.0)\n",
    "\n",
    "# Important expressions\n",
    "P = hy.exp(hy.log(K) * (-1.0 / (Gamma - 1.0))) * hy.exp(\n",
    "    hy.log((Gamma - 1.0) / Gamma * (hy.exp( hy.par[2]*s) - 1.0)) * (Gamma / (Gamma - 1.0))\n",
    ")\n",
    "rho = hy.exp(hy.log(P / K) / Gamma)\n",
    "eps = rho + P / (Gamma - 1.0)\n",
    "\n",
    "# We define the dynamics\n",
    "dx0ds = (-2.0 * x0 * (1.0 - 2.0 * x1) / (4.0 * np.pi * x0 * P + x1)) * hy.par[2]\n",
    "dyn2 = [\n",
    "    (x0, dx0ds),\n",
    "    (x1, (2.0 * np.pi * eps - x1 / 2.0 / x0) * dx0ds),\n",
    "]"
   ]
  },
  {
   "cell_type": "code",
   "execution_count": 9,
   "metadata": {},
   "outputs": [],
   "source": [
    "# We augment the dynamics with the variational equations (we use 8th order bu lower orders are good already)\n",
    "var_sys = hy.var_ode_sys(dyn2, args=[x0, x1, hy.par[2]], order=8)\n",
    "\n",
    "# We instantiate the Taylor adaptive integrator for the system of equations augmented with the variational ones\n",
    "ta_var = hy.taylor_adaptive(\n",
    "    var_sys,\n",
    "    state=[1.0, 1.0],\n",
    "    time=0.1,\n",
    "    tol=1e-18,\n",
    "    compact_mode=True,\n",
    ")\n",
    "# We copy, for future reference, the initial conditions on the variational state\n",
    "ic_var = list(deepcopy(ta_var.state[2:]))"
   ]
  },
  {
   "cell_type": "code",
   "execution_count": 10,
   "metadata": {},
   "outputs": [
    {
     "name": "stdout",
     "output_type": "stream",
     "text": [
      "Total time to propagate: 11.109041929244995\n",
      "Outcome:  taylor_outcome.time_limit\n",
      "Final value for the stellar radius is:  5.511134830596981\n",
      "Final value for the stellar mass is:  1.3684613613885501\n"
     ]
    }
   ],
   "source": [
    "start = time.time()\n",
    "ta_var.time = 1.\n",
    "\n",
    "ta_var.state[:] = y_0 + ic_var\n",
    "ta_var.pars[:] = [0., 0., h_0]\n",
    "\n",
    "s_grid = np.linspace(1.,0., 100)\n",
    "sol_var = ta_var.propagate_grid(s_grid)\n",
    "print(\"Total time to propagate:\", time.time() - start)\n",
    "print(\"Outcome: \", sol_var[0])\n",
    "\n",
    "rf = np.sqrt(sol_var[-1][:,0][-1])\n",
    "Mf = sol_var[-1][:,1][-1] * rf\n",
    "\n",
    "print(\"Final value for the stellar radius is: \", rf)\n",
    "print(\"Final value for the stellar mass is: \", Mf)"
   ]
  },
  {
   "cell_type": "markdown",
   "metadata": {},
   "source": [
    "We have thus computed the following polynomial approximations (degree $k$):\n",
    "\n",
    "$$\n",
    "\\begin{array}{l}\n",
    "R_{\\odot} = \\mathcal P^k_R(\\delta x_{0_0}, \\delta x_{1_0},\\delta h_0) \\\\\n",
    "M_{\\odot} = \\mathcal P^k_M(\\delta x_{0_0}, \\delta x_{1_0}, \\delta h_0) \n",
    "\\end{array}\n",
    "$$\n",
    "\n",
    "Note the underscript $0$ refers to the initial values, not to the star center which would here be indicated using $c$ rather than $0$."
   ]
  },
  {
   "cell_type": "code",
   "execution_count": 11,
   "metadata": {},
   "outputs": [
    {
     "name": "stdout",
     "output_type": "stream",
     "text": [
      "Conditions at the star center:\n",
      "\n",
      "Pressure:  0.04\n",
      "Energy density:  0.06\n",
      "Density:  0.02\n",
      "log-entalpy:  1.6094379124341003\n"
     ]
    }
   ],
   "source": [
    "# We repeat the computation changing the pressure at the center.\n",
    "\n",
    "# Pressure\n",
    "P_c_new = P_c*(1.+3.)\n",
    "\n",
    "# Density\n",
    "rho_c_new = (P_c_new / K_v) ** (1.0 / Gamma_v)\n",
    "\n",
    "# Energy density\n",
    "eps_c_new = rho_c_new + P_c_new / (Gamma_v - 1.0)\n",
    "\n",
    "# log-entalpy\n",
    "h_c_new = np.log(\n",
    "    1 + Gamma_v / (Gamma_v - 1) * K_v ** (1 / Gamma_v) * P_c_new ** (1.0 - 1.0 / Gamma_v)\n",
    ")\n",
    "\n",
    "print(\"Conditions at the star center:\")\n",
    "print(\"\\nPressure: \", P_c_new)\n",
    "print(\"Energy density: \", eps_c_new)\n",
    "print(\"Density: \", rho_c_new)\n",
    "print(\"log-entalpy: \", h_c_new)"
   ]
  },
  {
   "cell_type": "markdown",
   "metadata": {},
   "source": [
    "We may now find the new starting conditions at $h_c-dh$."
   ]
  },
  {
   "cell_type": "code",
   "execution_count": 12,
   "metadata": {},
   "outputs": [],
   "source": [
    "h_0_new = h_c_new-dh\n",
    "\n",
    "# Initial conditions at h_0_new (from Steil thesis). Can be improved at second order.\n",
    "x0_0_new = 3.0 / (2.0 * np.pi * (3.0 * P_c_new + eps_c_new)) * dh\n",
    "x1_0_new = 2.0 * eps_c_new / (3*P_c_new+eps_c_new) * dh\n",
    "y_0_new = [x0_0_new, x1_0_new]"
   ]
  },
  {
   "cell_type": "markdown",
   "metadata": {},
   "source": [
    "We can now use the Taylor approximation to compute the stellar radius and mass:\n"
   ]
  },
  {
   "cell_type": "code",
   "execution_count": 13,
   "metadata": {},
   "outputs": [
    {
     "name": "stdout",
     "output_type": "stream",
     "text": [
      "Final value for the stellar radius is:  4.902302695470357\n",
      "Final value for the stellar mass is:  1.136485534999483\n"
     ]
    }
   ],
   "source": [
    "taylor_approx = ta_var.eval_taylor_map([x0_0_new-x0_0, x1_0_new-x1_0, h_0_new-h_0])\n",
    "rf_new_taylor = np.sqrt(taylor_approx[0])\n",
    "Mf_new_taylor = taylor_approx[1] * rf_new_taylor\n",
    "\n",
    "print(\"Final value for the stellar radius is: \", rf_new_taylor)\n",
    "print(\"Final value for the stellar mass is: \", Mf_new_taylor)"
   ]
  },
  {
   "cell_type": "markdown",
   "metadata": {},
   "source": [
    "We now compute these values by numerical integration."
   ]
  },
  {
   "cell_type": "code",
   "execution_count": 14,
   "metadata": {},
   "outputs": [
    {
     "name": "stdout",
     "output_type": "stream",
     "text": [
      "Total time to propagate: 0.00030803680419921875\n",
      "Outcome (should be time_limit if all went well):  time_limit\n",
      "Final value for the stellar radius is:  4.902082750925565\n",
      "Final value for the stellar mass is:  1.1364594040709297\n"
     ]
    }
   ],
   "source": [
    "start = time.time()\n",
    "ta.time = h_0_new\n",
    "ta.state[:] = y_0_new\n",
    "ta.pars[:] = [0., 0.]\n",
    "time_grid = np.linspace(h_0_new, 0., 100) \n",
    "sol_new = ta.propagate_grid(time_grid)\n",
    "time_cost = time.time() - start\n",
    "print(\"Total time to propagate:\", time_cost)\n",
    "print(\"Outcome (should be time_limit if all went well): \", str(sol_new[0]).split(\".\")[1])\n",
    "\n",
    "# The mass and radius are easily computed from the last value reached\n",
    "rf_new = np.sqrt(sol_new[-1][:,0][-1])\n",
    "Mf_new = sol_new[-1][:,1][-1] * rf_new\n",
    "\n",
    "print(\"Final value for the stellar radius is: \", rf_new)\n",
    "print(\"Final value for the stellar mass is: \", Mf_new)"
   ]
  },
  {
   "cell_type": "markdown",
   "metadata": {},
   "source": [
    "Lets see the error introduced by the Taylor approximation in this specific instance:"
   ]
  },
  {
   "cell_type": "code",
   "execution_count": 15,
   "metadata": {},
   "outputs": [
    {
     "name": "stdout",
     "output_type": "stream",
     "text": [
      "Absolute error on mass: -2.613092855319188e-05\n",
      "Absolute error on radius: -0.0002199445447912396\n",
      "\n",
      "Relative error on mass: -2.2993279354799525e-05\n",
      "Relative error on radius: -4.486757077891264e-05\n"
     ]
    }
   ],
   "source": [
    "print(\"Absolute error on mass:\", Mf_new-Mf_new_taylor)\n",
    "print(\"Absolute error on radius:\", rf_new-rf_new_taylor)\n",
    "\n",
    "print(\"\\nRelative error on mass:\", (Mf_new-Mf_new_taylor) / Mf_new)\n",
    "print(\"Relative error on radius:\", (rf_new-rf_new_taylor) / rf_new)"
   ]
  },
  {
   "cell_type": "markdown",
   "metadata": {},
   "source": [
    "# The $M_\\odot$ vs $R_\\odot$ plot"
   ]
  },
  {
   "cell_type": "markdown",
   "metadata": {},
   "source": [
    "We now loop over different star conditions (at the core) and plot the relation between mass and radius using the Taylor approximation and the numerical integrator."
   ]
  },
  {
   "cell_type": "code",
   "execution_count": 16,
   "metadata": {},
   "outputs": [
    {
     "name": "stdout",
     "output_type": "stream",
     "text": [
      "Total computation time using the Taylor Map: 0.005026102066040039\n"
     ]
    }
   ],
   "source": [
    "start = time.time()\n",
    "Rstar=[]\n",
    "Mstar = []\n",
    "P_grid = np.linspace(P_c*(1.-0.95), P_c*(1+20.),1000)\n",
    "for P_c_new in P_grid:\n",
    "    # Density\n",
    "    rho_c_new = (P_c_new / K_v) ** (1.0 / Gamma_v)\n",
    "\n",
    "    # Energy density\n",
    "    eps_c_new = rho_c_new + P_c_new / (Gamma_v - 1.0)\n",
    "\n",
    "    # log-entalpy\n",
    "    h_c_new = np.log(\n",
    "        1 + Gamma_v / (Gamma_v - 1) * K_v ** (1 / Gamma_v) * P_c_new ** (1.0 - 1.0 / Gamma_v)\n",
    "    )\n",
    "\n",
    "    # Since the dynamics is singular at h_c, we define the initial conditions at h_0 = h_c - dh\n",
    "    h_0_new = h_c_new-dh\n",
    "\n",
    "    # Initial conditions at h_0 (from Steil thesis). Can be improved at second order.\n",
    "    x0_0_new = 3.0 / (2.0 * np.pi * (3.0 * P_c_new + eps_c_new)) * dh\n",
    "    x1_0_new = 2.0 * eps_c_new / (3*P_c_new+eps_c_new) * dh\n",
    "    taylor_approx = ta_var.eval_taylor_map([x0_0_new-x0_0, x1_0_new-x1_0, h_0_new-h_0])\n",
    "    Rstar.append(np.sqrt(taylor_approx[0]))\n",
    "    Mstar.append(taylor_approx[1]*np.sqrt(taylor_approx[0]))\n",
    "time_cost = time.time() - start\n",
    "print(\"Total computation time using the Taylor Map:\", time_cost)"
   ]
  },
  {
   "cell_type": "code",
   "execution_count": 17,
   "metadata": {},
   "outputs": [
    {
     "name": "stdout",
     "output_type": "stream",
     "text": [
      "Total time using the numerical integrator: 0.09037113189697266\n"
     ]
    }
   ],
   "source": [
    "start = time.time()\n",
    "Rstar_gt=[]\n",
    "Mstar_gt = []\n",
    "P_grid = P_c * np.logspace(0.01, 12,1000) / 40.\n",
    "for P_c_new in P_grid:\n",
    "    # Density\n",
    "    rho_c_new = (P_c_new / K_v) ** (1.0 / Gamma_v)\n",
    "\n",
    "    # Energy density\n",
    "    eps_c_new = rho_c_new + P_c_new / (Gamma_v - 1.0)\n",
    "\n",
    "    # log-entalpy\n",
    "    h_c_new = np.log(\n",
    "        1 + Gamma_v / (Gamma_v - 1) * K_v ** (1 / Gamma_v) * P_c_new ** (1.0 - 1.0 / Gamma_v)\n",
    "    )\n",
    "\n",
    "    # Since the dynamics is singular at h_c, we define the initial conditions at h_0 = h_c - dh\n",
    "    h_0_new = h_c_new-dh\n",
    "\n",
    "    # Since the dynamics is singular at h_c, we define the initial conditions at h_0 = h_c - dh\n",
    "    h_0_new = h_c_new-dh\n",
    "\n",
    "    # Initial conditions at h_0 (from Steil thesis). Can be improved at second order.\n",
    "    x0_0_new = 3.0 / (2.0 * np.pi * (3.0 * P_c_new + eps_c_new)) * dh\n",
    "    x1_0_new = 2.0 * eps_c_new / (3*P_c_new+eps_c_new) * dh\n",
    "\n",
    "    ta.time = h_0_new\n",
    "    ta.state[:] = y_0_new\n",
    "    outcome = ta.propagate_until(0.)\n",
    "\n",
    "    # The mass and radius are easily computed from the last value reached    \n",
    "    Rstar_gt.append(np.sqrt(ta.state[0]))\n",
    "    Mstar_gt.append(ta.state[1]*np.sqrt(ta.state[0]))\n",
    "time_cost = time.time() - start\n",
    "print(\"Total time using the numerical integrator:\", time_cost)"
   ]
  },
  {
   "cell_type": "markdown",
   "metadata": {},
   "source": [
    "And lets have a look at the difference in the computed values for this range:"
   ]
  },
  {
   "cell_type": "code",
   "execution_count": 18,
   "metadata": {},
   "outputs": [
    {
     "data": {
      "text/plain": [
       "<matplotlib.legend.Legend at 0x15ec4eed0>"
      ]
     },
     "execution_count": 18,
     "metadata": {},
     "output_type": "execute_result"
    },
    {
     "data": {
      "image/png": "[encoded data removed]",
      "text/plain": [
       "<Figure size 640x480 with 1 Axes>"
      ]
     },
     "metadata": {},
     "output_type": "display_data"
    }
   ],
   "source": [
    "plt.plot(Rstar_gt, Mstar_gt, label = \"Ground truth\")\n",
    "plt.plot(Rstar, Mstar, c='r', alpha=0.5, label = \"Taylor Map (order 8)\")\n",
    "\n",
    "plt.xlabel(\"$R_{\\odot}$\")\n",
    "plt.ylabel(\"$M_{\\odot}$\")\n",
    "plt.legend()"
   ]
  },
  {
   "cell_type": "markdown",
   "metadata": {},
   "source": [
    "**Conclusions**: \n",
    "* the use of the high order variational equations to solve the Tolman–Oppenheimer–Volkoff equations result in a relatively large convergence radius (when using the Lindblom form) of the resulting Taylkor map.\n",
    "* the resulting speedup in the evaluation of the mass/radius curve seems to be of the order of one order of magnitude.\n",
    "* the Taylor map allows to capture well the maximum allowed stellar mass.\n",
    "\n",
    "We are not sure this is useful, but damn its cool!"
   ]
  }
 ],
 "metadata": {
  "kernelspec": {
   "display_name": "ns",
   "language": "python",
   "name": "python3"
  },
  "language_info": {
   "codemirror_mode": {
    "name": "ipython",
    "version": 3
   },
   "file_extension": ".py",
   "mimetype": "text/x-python",
   "name": "python",
   "nbconvert_exporter": "python",
   "pygments_lexer": "ipython3",
   "version": "3.11.9"
  },
  "orig_nbformat": 4
 },
 "nbformat": 4,
 "nbformat_minor": 2
}
