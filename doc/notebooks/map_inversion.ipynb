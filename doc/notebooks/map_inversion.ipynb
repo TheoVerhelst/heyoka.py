{
 "cells": [
  {
   "cell_type": "markdown",
   "metadata": {},
   "source": [
    "# Map inversion and event sensitivities\n",
    "\n",
    "In this notebook we experiment with the map inversion technique, implemented as detailed in the work:\n",
    "\n",
    "*Martin Bertz* Modern Map Methods in Particle Beam Physics Academic Press (1999) pp.102 ([pdf](https://www.bmtdynamics.org/pub/papers/AIEP108book/AIEP108book.pdf))\n",
    "\n",
    "The technique is of interest in the context of *heyoka* as it allows to invert efficiently systems of polynomial equations, for example the Taylor maps constructed from the variational equations.\n",
    "\n",
    "In a [previous example](./ev_sensitivity.ipynb) we toyed with the idea of computing, for a generic event, the variations of its trigger time. In this notebook we set ourself the task to compute the very same thing for a generic system and eventually build Taylor maps relating the initial conditions to the final state at the event trigger time. We will need the map inversion algorithm to achieve our goals.\n",
    "\n",
    "This is interesting, for example, in the context of planetary landing, sphere-of-influence entry condtions, Poincare' sections etc.. as it allows to propagate efficiently uncertainties up to the event manifold, for example, using the machinery of the [moment generating functions](https://www.probabilitycourse.com/chapter6/6_1_3_moment_functions.php).\n",
    "\n",
    "Let us get started with some necessary imports:"
   ]
  },
  {
   "cell_type": "code",
   "execution_count": 1,
   "metadata": {},
   "outputs": [],
   "source": [
    "# Core imports\n",
    "import heyoka as hy\n",
    "import numpy as np\n",
    "import matplotlib as plt\n",
    "import math\n",
    "from copy import deepcopy\n",
    "\n",
    "# Plotting imports\n",
    "import matplotlib.pyplot as plt\n",
    "from mpl_toolkits.mplot3d import Axes3D"
   ]
  },
  {
   "cell_type": "markdown",
   "metadata": {},
   "source": [
    "## Preamble"
   ]
  },
  {
   "cell_type": "markdown",
   "metadata": {},
   "source": [
    "**How does the final state of a dynamical system vary when we perturb its initial conditions and parameters and the integration time is decided by a terminal event?**"
   ]
  },
  {
   "cell_type": "markdown",
   "metadata": {},
   "source": [
    "We consider a generic set of ODEs:\n",
    "\n",
    "$$\n",
    "\\left\\{\n",
    "\\begin{array}{l}\n",
    "\\mathbf {\\dot x} = \\mathbf f(\\mathbf x) \\\\\n",
    "\\mathbf {x(0)} = \\mathbf x_0\n",
    "\\end{array}\n",
    "\\right.\n",
    "$$\n",
    "and denote its solution as $\\mathbf x(t, \\mathbf x_0)$.\n",
    "\n",
    "We now perform a numerical integration and stop at the time $T$ when some event condition $\\mathbf e(\\mathbf x(T, \\mathbf x_0)) = \\mathbf 0$ is satisfied. \n",
    "\n",
    "If we were to repeat the numerical integration from slightly perturbed initial conditions, the time at which the event would be triggered also will also be perturbed so that:\n",
    "$$\n",
    "\\mathbf e\\big(\\mathbf x(T + \\delta T, \\mathbf x_0 + \\delta \\mathbf x_0)\\big) = \\mathbf 0\n",
    "$$\n",
    "\n",
    "In this notebook we will use *heyoka* to obtain polynomial expansions $\\mathcal P$ of the final state and the event trigger time. That is, we seek to find:\n",
    "\n",
    "$$\n",
    "\\left\\{\n",
    "\\begin{array}{l}\n",
    "\\mathbf x_f = \\mathcal P_{x_f}^n(\\delta \\mathbf x_0, \\delta T)\\\\\n",
    "\\delta T = \\mathcal P_T^n(\\delta \\mathbf x_0)\n",
    "\\end{array}\n",
    "\\right.\n",
    "$$\n",
    "\n",
    "This all may seem a bit complicated at this point, so it may help to imagine it before we start: we are building (in an automated fashion) high degree polynomials (also called Taylor maps) representing the sensitivities at the final event with respect to the initial conditions. \n",
    "\n",
    "We use, as an example, a particle subject to a gravity field and free falling up to when it collides with a spherical surface placed beneath it: **We want to describe the point where the particle collides with the sphere as a function of its initial state.**\n",
    "\n",
    "Let us start to define our dynamical system $\\mathbf f$:\n"
   ]
  },
  {
   "cell_type": "code",
   "execution_count": 2,
   "metadata": {},
   "outputs": [],
   "source": [
    "# Create the symbolic variables for the state.\n",
    "x, y, vx, vy = hy.make_vars(\"x\", \"y\", \"vx\", \"vy\")\n",
    "r = hy.sqrt(x**2 + y**2)\n",
    "\n",
    "# The simple dynamics is described by the following:\n",
    "dyn = [vx, vy, -1.0 / r**3 * x, -1.0 / r**3 * y]\n",
    "\n",
    "# We assemble the system in the heyoka syntax\n",
    "sys = []\n",
    "sys.append((x, dyn[0]))\n",
    "sys.append((y, dyn[1]))\n",
    "sys.append((vx, dyn[2]))\n",
    "sys.append((vy, dyn[3]))"
   ]
  },
  {
   "cell_type": "markdown",
   "metadata": {},
   "source": [
    "and the event $\\mathbf e$:"
   ]
  },
  {
   "cell_type": "code",
   "execution_count": 3,
   "metadata": {},
   "outputs": [],
   "source": [
    "# Let us create the event\n",
    "# Genric callback for a terminal event -> it does nothing except stopping the adaptive integrator when triggered.\n",
    "def t_cb(ta, d_sgn):\n",
    "    # Do stop the integration.\n",
    "    return False\n",
    "\n",
    "\n",
    "# Define a sphere of radius 1 (our planet :)\n",
    "ev_expr = x**2 + y**2 - 1\n",
    "\n",
    "# ... and the terminal event\n",
    "t_ev = hy.t_event(\n",
    "    # The event equation.\n",
    "    ev_expr,\n",
    "    # The callback.\n",
    "    callback=t_cb,\n",
    ")"
   ]
  },
  {
   "cell_type": "markdown",
   "metadata": {},
   "source": [
    "We now construct a Taylor integrator with the defined event.\n"
   ]
  },
  {
   "cell_type": "code",
   "execution_count": 4,
   "metadata": {},
   "outputs": [],
   "source": [
    "ta = hy.taylor_adaptive(sys, [0.1] * 4, compact_mode=True, t_events=[t_ev])"
   ]
  },
  {
   "cell_type": "markdown",
   "metadata": {},
   "source": [
    "And test it on some nominal case"
   ]
  },
  {
   "cell_type": "code",
   "execution_count": 5,
   "metadata": {},
   "outputs": [
    {
     "name": "stdout",
     "output_type": "stream",
     "text": [
      "The event (hitting the sphere) triggers at:  5.494381002478122\n"
     ]
    }
   ],
   "source": [
    "# Lets propagate\n",
    "ic = [0.1, 2.3, 0.4, 0.1]\n",
    "tof = 6.0\n",
    "\n",
    "ta.state[:4] = ic\n",
    "\n",
    "ta.time = 0.0\n",
    "ta.reset_cooldowns()  # to be sure in case we evaluatre the cell twice in a row\n",
    "\n",
    "t_grid_ta = np.linspace(0.0, tof)\n",
    "\n",
    "out_ta = ta.propagate_grid(t_grid_ta)\n",
    "\n",
    "trigger_time = ta.time\n",
    "print(\"The event (hitting the sphere) triggers at: \", trigger_time)"
   ]
  },
  {
   "cell_type": "markdown",
   "metadata": {},
   "source": [
    "NOTE: The numerical propagation has terminated but, while the state of the *ta* object is the one at the event time trigger, the actual values contained in the array returned by *propagate_grid* miss this last point as its not on the requested grid. We thus create new variables and append there the necessary values."
   ]
  },
  {
   "cell_type": "code",
   "execution_count": 6,
   "metadata": {},
   "outputs": [],
   "source": [
    "out = np.vstack((out_ta[-1], ta.state.reshape(1, -1)))\n",
    "t_grid = t_grid_ta[t_grid_ta < ta.time]\n",
    "t_grid = np.hstack((t_grid, [ta.time]))"
   ]
  },
  {
   "cell_type": "markdown",
   "metadata": {},
   "source": [
    "Lets have a look to the falling point:"
   ]
  },
  {
   "cell_type": "code",
   "execution_count": 7,
   "metadata": {},
   "outputs": [
    {
     "data": {
      "text/plain": [
       "(-1.1148950888171956,\n",
       " 1.412796865161107,\n",
       " -1.166336608935997,\n",
       " 2.4930687876559348)"
      ]
     },
     "execution_count": 7,
     "metadata": {},
     "output_type": "execute_result"
    },
    {
     "data": {
      "image/png": "[encoded data removed]",
      "text/plain": [
       "<Figure size 640x480 with 1 Axes>"
      ]
     },
     "metadata": {},
     "output_type": "display_data"
    }
   ],
   "source": [
    "fig = plt.figure()\n",
    "ax = fig.add_subplot(111)\n",
    "ax.plot(out[:, 0], out[:, 1])\n",
    "\n",
    "circle = plt.Circle((0, 0), 1, color=\"r\")\n",
    "ax.add_patch(circle)\n",
    "plt.axis(\"equal\")"
   ]
  },
  {
   "cell_type": "markdown",
   "metadata": {},
   "source": [
    "## Augmenting our system"
   ]
  },
  {
   "cell_type": "markdown",
   "metadata": {},
   "source": [
    "Naturally, our object followed some kind of Keplerian orbit and stopped when it hit the sphere.\n",
    "\n",
    "In order to understand where the object would hit the sphere, should we change the initial conditions, we need to transform our set of ODEs applying a few tricks. \n",
    "\n",
    "We started from:\n",
    "\n",
    "$$\n",
    "\\left\\{\n",
    "\\begin{array}{l}\n",
    "\\mathbf {\\dot x} = v_x \\\\\n",
    "\\mathbf {\\dot y} = v_y \\\\\n",
    "\\mathbf {\\dot v_x} = - x/r^3 \\\\\n",
    "\\mathbf {\\dot v_y} = - y/r^3 \\\\\n",
    "\\end{array}\n",
    "\\right.\n",
    "$$\n",
    "\n",
    "and the event $e = x^2 + y^2 -1 = 0$.\n",
    "\n",
    "and we integrated up to the event trigger time $T$. Let us now, instead, consider the ODE system:\n",
    "$$\n",
    "\\left\\{\n",
    "\\begin{array}{l}\n",
    "\\mathbf {\\dot x} = T v_x \\\\\n",
    "\\mathbf {\\dot y} = T v_y \\\\\n",
    "\\mathbf {\\dot v_x} = - T x/r^3 \\\\\n",
    "\\mathbf {\\dot v_y} = - T y/r^3 \\\\\n",
    "\\mathbf {\\dot e} = T \\nabla e \\cdot \\mathbf f\n",
    "\\end{array}\n",
    "\\right.\n",
    "$$\n",
    "with the added initial condition $e(t=0) = e(x_0, y_0, v_{x_0}, v_{y_0})$. We integrate this system up to $t=1$, as we now consider the actual integration time as an ODE parameter. Note that we also added one equation which will track the event value along the dynamics.\n",
    "\n",
    "Using this augmented system of equations we build a variational integrator so that all high orders variations, including the ones w.r.t. $T$ will be computed:\n"
   ]
  },
  {
   "cell_type": "code",
   "execution_count": 8,
   "metadata": {},
   "outputs": [],
   "source": [
    "# Auxiliary variable for the equation tracking the event\n",
    "e = hy.make_vars(\"e\")\n",
    "# We compile the event function for later use\n",
    "ev_cfunc = hy.cfunc([ev_expr], vars=[x, y, vx, vy])\n",
    "# To compute the auxiliary equation we need the event gradient\n",
    "ev_grad = hy.diff_tensors([ev_expr], diff_args=[x, y, vx, vy], diff_order=1).gradient\n",
    "\n",
    "# We define the augmented system\n",
    "sys_aug = []\n",
    "sys_aug.append((x, hy.par[0] * dyn[0]))\n",
    "sys_aug.append((y, hy.par[0] * dyn[1]))\n",
    "sys_aug.append((vx, hy.par[0] * dyn[2]))\n",
    "sys_aug.append((vy, hy.par[0] * dyn[3]))\n",
    "sys_aug.append((e, hy.par[0] * np.dot(ev_grad, dyn)))"
   ]
  },
  {
   "cell_type": "markdown",
   "metadata": {},
   "source": [
    "... and compute the variational system:"
   ]
  },
  {
   "cell_type": "code",
   "execution_count": 9,
   "metadata": {},
   "outputs": [],
   "source": [
    "# Create the variational ODE system (symbolic).\n",
    "vsys = hy.var_ode_sys(sys_aug, [x, y, vx, vy, e, hy.par[0]], order=4)"
   ]
  },
  {
   "cell_type": "markdown",
   "metadata": {},
   "source": [
    "... and build the variational integrator:"
   ]
  },
  {
   "cell_type": "code",
   "execution_count": 10,
   "metadata": {},
   "outputs": [
    {
     "name": "stdout",
     "output_type": "stream",
     "text": [
      "Variational equations built, variations considered are:  [x, y, vx, vy, e, p0]\n"
     ]
    }
   ],
   "source": [
    "# Construct the Taylor integrator containing also variational equations (llvm)\n",
    "ta_var = hy.taylor_adaptive(vsys, [0.1] * 5, compact_mode=True)\n",
    "# We store the initial conditions on the variational equations for future resets\n",
    "ic_var = ta_var.state[5:]\n",
    "print(\"Variational equations built, variations considered are: \", ta_var.vargs)"
   ]
  },
  {
   "cell_type": "markdown",
   "metadata": {},
   "source": [
    "We thus may now integrate this system up to a unitary time ($T$ actually now represents the integration time as a parameter)"
   ]
  },
  {
   "cell_type": "code",
   "execution_count": 11,
   "metadata": {},
   "outputs": [],
   "source": [
    "# Lets propagate\n",
    "ic_aug = ic + [ev_cfunc(ic)[0]]\n",
    "\n",
    "ta_var.state[:5] = ic_aug\n",
    "ta_var.state[5:] = ic_var\n",
    "ta_var.pars[:] = trigger_time\n",
    "\n",
    "ta_var.time = 0.0\n",
    "\n",
    "t_grid_ta_var = np.linspace(0.0, 1.0)\n",
    "\n",
    "out_ta = ta_var.propagate_grid(t_grid_ta_var)"
   ]
  },
  {
   "cell_type": "markdown",
   "metadata": {},
   "source": [
    "Just to verify, we look at the value of $e$ at the end of our integration and check that is zero indeed:"
   ]
  },
  {
   "cell_type": "code",
   "execution_count": 12,
   "metadata": {},
   "outputs": [
    {
     "name": "stdout",
     "output_type": "stream",
     "text": [
      "The event state variable e value at the end is:  -8.673833409892439e-16\n"
     ]
    }
   ],
   "source": [
    "print(\"The event state variable e value at the end is: \", ta_var.state[4])"
   ]
  },
  {
   "cell_type": "markdown",
   "metadata": {},
   "source": [
    "Here is perhaps a good place to stop for a second and ponder on what we have computed. Looking into how we defined and built the variational equations, it should be easy to see that calls to the method *eval_taylor_map* will use the following representations:\n",
    "\n",
    "\n",
    "$$\n",
    "\\left\\{\n",
    "\\begin{array}{l}\n",
    "\\delta x_f = \\mathcal P_{x_f}^n(\\delta x_0, \\delta y_0, \\delta v_{x_0}, \\delta v_{y_0}, \\delta T)\\\\\n",
    "\\delta y_f = \\mathcal P_{y_f}^n(\\delta x_0, \\delta y_0, \\delta v_{x_0}, \\delta v_{y_0}, \\delta T)\\\\\n",
    "\\delta v_{x_f} = \\mathcal P_{v_{x_0}}^n(\\delta x_0, \\delta y_0, \\delta v_{x_0}, \\delta v_{y_0}, \\delta T)\\\\\n",
    "\\delta v_{y_f} = \\mathcal P_{v_{y_0}}^n(\\delta x_0, \\delta y_0, \\delta v_{x_0}, \\delta v_{y_0}, \\delta T)\\\\\n",
    "\\delta e_f = \\mathcal P_T^n(\\delta x_0, \\delta y_0, \\delta v_{x_0}, \\delta v_{y_0}, \\delta e_0, \\delta T)\n",
    "\\end{array}\n",
    "\\right.\n",
    "$$\n",
    "\n",
    "where $\\mathcal P^n_\\circ$ are multivariate polynomials of order $n$. Note that the variation w.r.t. the initial condition $e_0$ only appears in the last equation as that state variable does not affect any of the other equations (the ones referring to the original, non augmented, dynamics.)\n",
    "\n",
    "\n",
    "\n",
    "Comparing this to what we wanted to compute we can see that we are getting very close, except the last equation, where we would rather have something\n",
    " like $\\delta T = \\mathcal P_T^n(\\delta x_0, \\delta y_0, \\delta v_{x_0}, \\delta v_{y_0}, \\delta e_0, \\delta e_f)$ to then set $\\delta e_f=0$ and $\\delta e_0 = e(\\mathbf x_0+\\delta \\mathbf x_0) - e(\\mathbf x_0)$.\n",
    " \n",
    "To obtain this expression we need to invert the last equation!"
   ]
  },
  {
   "cell_type": "markdown",
   "metadata": {},
   "source": [
    "## The map inversion algorithm\n",
    "\n",
    "We need to write a few helper function as to be able to perform the map inversion in **heyoka.py**. Fistly we must be able to extract the symbolic epressions of the polynomials $\\mathcal P^n_\\circ$ from the various states of the variational equations. \n",
    "\n",
    "This is done via this simple helper, that returns already the quantities in the needed form:"
   ]
  },
  {
   "cell_type": "code",
   "execution_count": 13,
   "metadata": {},
   "outputs": [],
   "source": [
    "# This extracts from the variational equations the Taylor maps (linear and non linear part separated) of states_id w.r.t. the vargs_id\n",
    "def _extract_map(states_id, vargs_id, ta_var):\n",
    "    # The linear part of the symbolic map\n",
    "    M = [hy.expression(0)] * len(states_id)\n",
    "    # The nonlinear part of the symbolic map\n",
    "    N = [hy.expression(0)] * len(states_id)\n",
    "    # The linear part of the numeric map\n",
    "    matrix = np.zeros((len(states_id), len(vargs_id)))\n",
    "\n",
    "    # 1 - We create the symbols for the polynomial system of equations: dx = P(dy)\n",
    "    vargs_s = []\n",
    "    for i in range(len(vargs_id)):\n",
    "        vargs_s.append(\"dy\" + str(i))\n",
    "    vargs_e = hy.make_vars(*vargs_s)\n",
    "    # In case vargs is only of len 1, the return value in heyoka changes type and is not a list.\n",
    "    # We account for this case here\n",
    "    if not isinstance(vargs_e, list):\n",
    "        vargs_e = [vargs_e]\n",
    "\n",
    "    # 3 - We loop over all mini indexes\n",
    "    for i in range(ta_var.n_orig_sv, len(ta_var.sys)):\n",
    "        mindex = ta_var.get_mindex(i)\n",
    "\n",
    "        # If not, we only consider the term if it corresponds to a selected state\n",
    "        if not (mindex[0] in states_id):\n",
    "            continue\n",
    "        # .. and contains only the selected vargs\n",
    "        flag = 0.0\n",
    "        for ii, jj in enumerate(mindex[1:]):\n",
    "            if (not (ii in vargs_id)) and (jj > 0.0):\n",
    "                flag = 1.0\n",
    "                break\n",
    "\n",
    "        if flag == 0:\n",
    "            # At this point we know we need to add this term to the corresponding map.\n",
    "            monomial = 1.0\n",
    "            for k in range(len(vargs_id)):\n",
    "                monomial *= vargs_e[k] ** mindex[vargs_id[k] + 1]\n",
    "            value = ta_var.state[i]\n",
    "            factorial = math.prod([math.factorial(_) for _ in mindex[1:]])\n",
    "\n",
    "            value /= factorial\n",
    "            if sum(mindex[1:]) == 1:\n",
    "                M[states_id.index(mindex[0])] += value * monomial\n",
    "                matrix[\n",
    "                    states_id.index(mindex[0]), vargs_id.index(mindex[1:].index(1))\n",
    "                ] = value\n",
    "            else:\n",
    "                N[states_id.index(mindex[0])] += value * monomial\n",
    "    return matrix, M, N, vargs_e"
   ]
  },
  {
   "cell_type": "markdown",
   "metadata": {},
   "source": [
    "We will also need to compose maps (the operator $\\mathcal M_1\\circ \\mathcal M_2$ in the notation used by Berz in his book), each is a simple substituion, sum them and subtract them. For the purpose of this notebook a map $\\mathcal M$ is an array of $n$ polynomials in the $m$ symbols $dy_0 ... dy_m$. The Map is square if $n=m$. The following functions are helpers doing just that:"
   ]
  },
  {
   "cell_type": "code",
   "execution_count": 14,
   "metadata": {},
   "outputs": [],
   "source": [
    "# Map composition\n",
    "def _map_composition_hy(A, B, symbols):\n",
    "    tmp = deepcopy(A)\n",
    "    for j in range(len(symbols)):\n",
    "        tmp = hy.subs(tmp, {symbols[j]: B[j]})\n",
    "    return tmp\n",
    "\n",
    "\n",
    "# Map difference\n",
    "def _map_difference(A, B):\n",
    "    C = []\n",
    "    for i in range(len(A)):\n",
    "        C.append(A[i] - B[i])\n",
    "    return C\n",
    "\n",
    "\n",
    "# Map sum\n",
    "def _map_sum(A, B):\n",
    "    C = []\n",
    "    for i in range(len(A)):\n",
    "        C.append(A[i] + B[i])\n",
    "    return C"
   ]
  },
  {
   "cell_type": "markdown",
   "metadata": {},
   "source": [
    "Finally we can write the algorithm of map inversion:"
   ]
  },
  {
   "cell_type": "code",
   "execution_count": 15,
   "metadata": {},
   "outputs": [],
   "source": [
    "# This inverts a Taylor map (square)\n",
    "def invert_taylor_map(matrix, N, dy_e, order):\n",
    "    dx_s = []\n",
    "    for i in range(len(dy_e)):\n",
    "        dx_s.append(\"dx\" + str(i))\n",
    "    dx_e = hy.make_vars(*dx_s)\n",
    "    if not isinstance(dx_e, list):\n",
    "        dx_e = [dx_e]\n",
    "\n",
    "    Identity = dx_e\n",
    "    # 2 - We assemple the linear part with 2 different symbols as to avoid nasty surprises in subs\n",
    "    det = np.linalg.det(matrix)\n",
    "    if abs(det) < 1e-10:\n",
    "        raise ValueError(\"Linear Map is not invertible\")\n",
    "    Minv0 = list(np.linalg.inv(matrix) @ dx_e)  # dx symbols\n",
    "    Minv02 = _map_composition_hy(Minv0, dy_e, dx_e)  # dy symbols\n",
    "    # 3 - We iterate n times\n",
    "    for i in range(order - 1):\n",
    "        Minv0 = _map_composition_hy(\n",
    "            Minv02, _map_difference(Identity, _map_composition_hy(N, Minv0, dy_e)), dy_e\n",
    "        )\n",
    "    cfunc = hy.cfunc(Minv0, vars=dx_e)\n",
    "    return cfunc"
   ]
  },
  {
   "cell_type": "markdown",
   "metadata": {},
   "source": [
    "## Using the map inversion \n",
    "We now use the function **invert_taylor_map** defined above to compute:\n",
    "\n",
    "$$\n",
    "\\delta T = \\mathcal P_T^n(\\delta x_0, \\delta y_0, \\delta v_{x_0}, \\delta v_{y_0}, \\delta e_0, \\delta e_f)\n",
    "$$\n",
    "\n",
    "inverting the expression available from the variational integrator:\n",
    "\n",
    "$$\n",
    "\\delta e_f = \\mathcal P_e^n(\\delta x_0, \\delta y_0, \\delta v_{x_0}, \\delta v_{y_0}, \\delta e_0, \\delta T)\n",
    "$$"
   ]
  },
  {
   "cell_type": "code",
   "execution_count": 16,
   "metadata": {},
   "outputs": [],
   "source": [
    "# First we extract the symbolic map of the event equation (id 4) w.r.t. the variations of all the six states+param (dT is the id 5)\n",
    "matrix4, M4, N4, vargs_e = _extract_map([4], [0, 1, 2, 3, 4, 5], ta_var)\n",
    "\n",
    "# Then we augment it wth identities as to obtain a sqaured map\n",
    "M = [vargs_e[0], vargs_e[1], vargs_e[2], vargs_e[3], vargs_e[4], M4[0]]\n",
    "N = [hy.expression(0)] * 5 + [N4[0]]\n",
    "matrix = np.eye(6)\n",
    "matrix[-1, :] = matrix4\n",
    "\n",
    "# Finally we invert it\n",
    "invmap = invert_taylor_map(matrix, N, vargs_e, ta_var.vorder)"
   ]
  },
  {
   "cell_type": "markdown",
   "metadata": {},
   "source": [
    "Let us check if indeed we have succeded. \n",
    "\n",
    "We first compute the event trigger time change caused by some random change in the initial conditions from our inverse map (and using only its linear part)"
   ]
  },
  {
   "cell_type": "code",
   "execution_count": 17,
   "metadata": {},
   "outputs": [
    {
     "name": "stdout",
     "output_type": "stream",
     "text": [
      "Event trigger time variation from the Taylor approximation: 0.15133310675075287\n",
      "Event trigger time variation from the Linear approximation: 0.14897709392279662\n"
     ]
    }
   ],
   "source": [
    "size = 1e-2\n",
    "d_ic = [\n",
    "    np.random.random() * size,\n",
    "    np.random.random() * size,\n",
    "    np.random.random() * size,\n",
    "    np.random.random() * size,\n",
    "]\n",
    "de0 = ev_cfunc(np.array(ic) + np.array(d_ic))[0] - ev_cfunc(np.array(ic))[0]\n",
    "# We now use the random perturbation vector generated above (dx_0, dy_0, dvx_0, dvy_0) add de_f=0 and query the map for\n",
    "# the change in event trigger time:\n",
    "dT = invmap(d_ic + [de0, 0.0])\n",
    "print(\"Event trigger time variation from the Taylor approximation:\", dT[-1])\n",
    "print(\n",
    "    \"Event trigger time variation from the Linear approximation:\",\n",
    "    (np.linalg.inv(matrix) @ (d_ic + [de0, 0.0]))[-1],\n",
    ")"
   ]
  },
  {
   "cell_type": "markdown",
   "metadata": {},
   "source": [
    "Then we check the result via the fully non linear numercial propagation:"
   ]
  },
  {
   "cell_type": "code",
   "execution_count": 18,
   "metadata": {},
   "outputs": [
    {
     "name": "stdout",
     "output_type": "stream",
     "text": [
      "Old event trigger time: 5.494381002478122\n",
      "New event trigger time: 5.645714181005989\n",
      "\n",
      "Event trigger time difference:\t\t\t\t\t1.51333e-01\n",
      "Event trigger time difference from the Taylor approximation:\t1.51333e-01\t\n",
      "\n",
      "Relative error (on dT, not T):  -4.742985923943142e-07\n"
     ]
    }
   ],
   "source": [
    "# Lets propagate using the original system (non augmented, non variational)\n",
    "ic_new = np.array(ic) + np.array(d_ic)\n",
    "tof = 6.0\n",
    "\n",
    "ta.state[:4] = ic_new\n",
    "\n",
    "ta.time = 0.0\n",
    "ta.reset_cooldowns()\n",
    "\n",
    "t_grid_ta = np.linspace(0.0, tof)\n",
    "\n",
    "out_ta_new = ta.propagate_grid(t_grid_ta)\n",
    "\n",
    "trigger_time_new = ta.time\n",
    "\n",
    "print(\"Old event trigger time:\", trigger_time)\n",
    "print(\"New event trigger time:\", trigger_time_new)\n",
    "print(\n",
    "    f\"\\nEvent trigger time difference:\\t\\t\\t\\t\\t{trigger_time_new - trigger_time:.5e}\"\n",
    ")\n",
    "print(f\"Event trigger time difference from the Taylor approximation:\\t{dT[-1]:.5e}\\t\")\n",
    "print(\n",
    "    \"\\nRelative error (on dT, not T): \",\n",
    "    (dT[-1] - (trigger_time_new - trigger_time)) / (trigger_time_new - trigger_time),\n",
    ")"
   ]
  },
  {
   "cell_type": "markdown",
   "metadata": {},
   "source": [
    "## Let's visualize the impact points\n",
    "\n",
    "Our final aim was to compute the variations of the final state at the event, so we now produce 100 random **initial conditions** variations, and we compute, via our Taylor maps, the corresponding final conditions, which we expect all to lie on the sphere:"
   ]
  },
  {
   "cell_type": "code",
   "execution_count": 19,
   "metadata": {},
   "outputs": [],
   "source": [
    "dx = []\n",
    "dy = []\n",
    "dx0 = []\n",
    "dy0 = []\n",
    "for i in range(100):\n",
    "    size = 1e-1\n",
    "    d_ic = [\n",
    "        (0.5 - np.random.random()) * size,\n",
    "        (0.5 - np.random.random()) * size,\n",
    "        (0.5 - np.random.random()) * size,\n",
    "        (0.5 - np.random.random()) * size,\n",
    "    ]\n",
    "    de0 = ev_cfunc(np.array(ic) + np.array(d_ic))[0] - ev_cfunc(np.array(ic))[0]\n",
    "    # We compute the event trigger time change\n",
    "    dT = invmap(d_ic + [de0, 0.0])[-1]\n",
    "    # We compute the state variations (note that def is zero)\n",
    "    tmp = ta_var.eval_taylor_map(d_ic + [0.0, dT])-ta_var.state[:5]\n",
    "    # We store the results for plotting\n",
    "    dx.append(tmp[0])\n",
    "    dy.append(tmp[1])\n",
    "    dx0.append(d_ic[0])\n",
    "    dy0.append(d_ic[1])"
   ]
  },
  {
   "cell_type": "markdown",
   "metadata": {},
   "source": [
    "... and we plot"
   ]
  },
  {
   "cell_type": "code",
   "execution_count": 20,
   "metadata": {},
   "outputs": [
    {
     "data": {
      "image/png": "[encoded data removed]",
      "text/plain": [
       "<Figure size 640x480 with 1 Axes>"
      ]
     },
     "metadata": {},
     "output_type": "display_data"
    }
   ],
   "source": [
    "fig = plt.figure()\n",
    "ax = fig.add_subplot(111)\n",
    "ax.plot(out[:, 0], out[:, 1])\n",
    "\n",
    "circle = plt.Circle((0, 0), 1, color=\"r\")\n",
    "ax.add_patch(circle)\n",
    "plt.axis(\"equal\")\n",
    "\n",
    "plt.scatter(out[0, 0] + dx0, out[0, 1] + dy0, marker=\".\", color=\"k\")\n",
    "plt.scatter(out[-1, 0] + dx, out[-1, 1] + dy, marker=\".\", color=\"k\")\n",
    "\n",
    "plt.xlabel(\"x\")\n",
    "plt.ylabel(\"y\");"
   ]
  },
  {
   "cell_type": "markdown",
   "metadata": {},
   "source": [
    "Eureka!!! The polynomial map built is able to predict accurately the state of the dynamical system at the event trigger condition .... without actually performing the nonlinear numerical integration.\n",
    "\n",
    "That's all folks!."
   ]
  }
 ],
 "metadata": {
  "kernelspec": {
   "display_name": "Python 3 (ipykernel)",
   "language": "python",
   "name": "python3"
  },
  "language_info": {
   "codemirror_mode": {
    "name": "ipython",
    "version": 3
   },
   "file_extension": ".py",
   "mimetype": "text/x-python",
   "name": "python",
   "nbconvert_exporter": "python",
   "pygments_lexer": "ipython3",
   "version": "3.12.4"
  }
 },
 "nbformat": 4,
 "nbformat_minor": 4
}
